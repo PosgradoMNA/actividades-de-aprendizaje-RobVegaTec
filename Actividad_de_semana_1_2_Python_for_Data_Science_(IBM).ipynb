{
  "nbformat": 4,
  "nbformat_minor": 0,
  "metadata": {
    "colab": {
      "provenance": [],
      "authorship_tag": "ABX9TyMJZXRfSmFCmQMoo3oUbPCv",
      "include_colab_link": true
    },
    "kernelspec": {
      "name": "python3",
      "display_name": "Python 3"
    },
    "language_info": {
      "name": "python"
    }
  },
  "cells": [
    {
      "cell_type": "markdown",
      "metadata": {
        "id": "view-in-github",
        "colab_type": "text"
      },
      "source": [
        "<a href=\"https://colab.research.google.com/github/PosgradoMNA/actividades-de-aprendizaje-RobVegaTec/blob/main/Actividad_de_semana_1_2_Python_for_Data_Science_(IBM).ipynb\" target=\"_parent\"><img src=\"https://colab.research.google.com/assets/colab-badge.svg\" alt=\"Open In Colab\"/></a>"
      ]
    },
    {
      "cell_type": "markdown",
      "source": [],
      "metadata": {
        "id": "IlTVsynAs750"
      }
    },
    {
      "cell_type": "markdown",
      "source": [
        "Modulo 1"
      ],
      "metadata": {
        "id": "ekn3hjRss9n7"
      }
    },
    {
      "cell_type": "code",
      "execution_count": 1,
      "metadata": {
        "colab": {
          "base_uri": "https://localhost:8080/"
        },
        "id": "cEnBrpc2s4_a",
        "outputId": "7695a27d-6b28-4da4-921b-0cb47e177bdf"
      },
      "outputs": [
        {
          "output_type": "stream",
          "name": "stdout",
          "text": [
            "Test dirve connection\n"
          ]
        }
      ],
      "source": [
        "print('Test dirve connection')"
      ]
    },
    {
      "cell_type": "code",
      "source": [
        "print('Saved from GoogleDrive, Commited to GitHub')"
      ],
      "metadata": {
        "colab": {
          "base_uri": "https://localhost:8080/"
        },
        "id": "lUXuSIrptjFL",
        "outputId": "3c50bb6d-97f6-4a61-a535-a4950d733199"
      },
      "execution_count": 3,
      "outputs": [
        {
          "output_type": "stream",
          "name": "stdout",
          "text": [
            "Saved from GoogleDrive, Commited to GitHub\n"
          ]
        }
      ]
    }
  ]
}