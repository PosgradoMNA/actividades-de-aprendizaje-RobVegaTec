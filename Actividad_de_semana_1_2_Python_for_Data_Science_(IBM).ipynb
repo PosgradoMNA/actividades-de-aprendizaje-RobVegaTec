{
  "nbformat": 4,
  "nbformat_minor": 0,
  "metadata": {
    "colab": {
      "provenance": [],
      "collapsed_sections": [],
      "toc_visible": true,
      "authorship_tag": "ABX9TyPtKbp37OSP892q0FO+cNnB",
      "include_colab_link": true
    },
    "kernelspec": {
      "name": "python3",
      "display_name": "Python 3"
    },
    "language_info": {
      "name": "python"
    }
  },
  "cells": [
    {
      "cell_type": "markdown",
      "metadata": {
        "id": "view-in-github",
        "colab_type": "text"
      },
      "source": [
        "<a href=\"https://colab.research.google.com/github/PosgradoMNA/actividades-de-aprendizaje-RobVegaTec/blob/main/Actividad_de_semana_1_2_Python_for_Data_Science_(IBM).ipynb\" target=\"_parent\"><img src=\"https://colab.research.google.com/assets/colab-badge.svg\" alt=\"Open In Colab\"/></a>"
      ]
    },
    {
      "cell_type": "markdown",
      "source": [],
      "metadata": {
        "id": "IlTVsynAs750"
      }
    },
    {
      "cell_type": "markdown",
      "source": [
        "# Módulo 1"
      ],
      "metadata": {
        "id": "ekn3hjRss9n7"
      }
    },
    {
      "cell_type": "markdown",
      "source": [
        "## Your First Program"
      ],
      "metadata": {
        "id": "3sB1ZcIvEKyB"
      }
    },
    {
      "cell_type": "code",
      "execution_count": null,
      "metadata": {
        "colab": {
          "base_uri": "https://localhost:8080/"
        },
        "id": "cEnBrpc2s4_a",
        "outputId": "988de327-2c17-4da3-b154-c64a5534c9be"
      },
      "outputs": [
        {
          "output_type": "stream",
          "name": "stdout",
          "text": [
            "Hello Python 101\n"
          ]
        }
      ],
      "source": [
        "# This is a comment example: print Hello Python 101 \n",
        "print('Hello Python 101')"
      ]
    },
    {
      "cell_type": "code",
      "source": [
        "# Questinon 1: Using the Practice Lab, find the result of executing print(\"Hello\\nWorld!\") statement.\n",
        "print(\"Hello\\nWorld!\")"
      ],
      "metadata": {
        "colab": {
          "base_uri": "https://localhost:8080/"
        },
        "id": "lUXuSIrptjFL",
        "outputId": "5768c413-33aa-4eb8-8239-74717090c337"
      },
      "execution_count": null,
      "outputs": [
        {
          "output_type": "stream",
          "name": "stdout",
          "text": [
            "Hello\n",
            "World!\n"
          ]
        }
      ]
    },
    {
      "cell_type": "code",
      "source": [
        "# Question 2: What is the output of executing the following statement: # print('Hello World!')?\n",
        "# print('Hello World!')\n",
        "# There is no output as it is a comment"
      ],
      "metadata": {
        "id": "UpUL3hylEb1C"
      },
      "execution_count": null,
      "outputs": []
    },
    {
      "cell_type": "markdown",
      "source": [
        "## Types"
      ],
      "metadata": {
        "id": "ROIsAdYCFlm-"
      }
    },
    {
      "cell_type": "code",
      "source": [
        "# Question 1: What is the type of the following: int(1.0)?\n",
        "type(int(1.0))"
      ],
      "metadata": {
        "colab": {
          "base_uri": "https://localhost:8080/"
        },
        "id": "mKdc9soHEtpL",
        "outputId": "b0867d30-973f-4bd2-ba9c-b2759ddf209e"
      },
      "execution_count": null,
      "outputs": [
        {
          "output_type": "execute_result",
          "data": {
            "text/plain": [
              "int"
            ]
          },
          "metadata": {},
          "execution_count": 9
        }
      ]
    },
    {
      "cell_type": "code",
      "source": [
        "# Question 2: Enter the code to convert the number 1 to a Boolean.\n",
        "bool(1)"
      ],
      "metadata": {
        "colab": {
          "base_uri": "https://localhost:8080/"
        },
        "id": "dWVgi5uKFsL6",
        "outputId": "9126596a-567b-42ea-fc8f-d3666e35d062"
      },
      "execution_count": null,
      "outputs": [
        {
          "output_type": "execute_result",
          "data": {
            "text/plain": [
              "True"
            ]
          },
          "metadata": {},
          "execution_count": 10
        }
      ]
    },
    {
      "cell_type": "code",
      "source": [
        "# Discussion: My contribution\n",
        "\n",
        "\"\"\"\n",
        "bool() effect in numbers\n",
        "discusión publicada hace hace menos de un minuto por Rob-Vega\n",
        "\n",
        "Note the following; bool() function will always be True for any int or number except for 0:\n",
        "\n",
        "bool(10) --> True\n",
        "\n",
        "bool(1.1) --> True\n",
        "\n",
        "bool(-10) --> True\n",
        "\n",
        "bool(-1.1) --> True\n",
        "\n",
        "bool(0) --> True\n",
        "\"\"\""
      ],
      "metadata": {
        "colab": {
          "base_uri": "https://localhost:8080/"
        },
        "id": "Qkfic1kDFySK",
        "outputId": "beea5a03-0aad-47a8-9481-858bcdf6a053"
      },
      "execution_count": null,
      "outputs": [
        {
          "output_type": "execute_result",
          "data": {
            "text/plain": [
              "True"
            ]
          },
          "metadata": {},
          "execution_count": 17
        }
      ]
    },
    {
      "cell_type": "markdown",
      "source": [
        "## Expressions and Variables\n",
        "\n",
        "Expression = operation\n",
        "oreand:numbers \n",
        "operators: + - * % /\n",
        "\n",
        "// = int division\n",
        "\n",
        "Operation orders\n",
        "\n",
        "Variables --> to assign values to n object\n",
        "\n",
        "use a meaninful name for variables"
      ],
      "metadata": {
        "id": "qLHQUdniHHhb"
      }
    },
    {
      "cell_type": "markdown",
      "source": [
        "## String Operations\n",
        "\n",
        "\n",
        "\\ escape sequences\n",
        "r to cnsider the backslash as an element"
      ],
      "metadata": {
        "id": "Xr38FQPZJh-0"
      }
    },
    {
      "cell_type": "markdown",
      "source": [
        "Sequence methods:\n",
        "\n",
        "String methods:\n",
        "\n",
        "upper()\n",
        "\n",
        "replace(target,replace_element)\n",
        "\n",
        "find(substring) --> first index of the substr in string\n"
      ],
      "metadata": {
        "id": "JMntQ4-VJ66q"
      }
    },
    {
      "cell_type": "code",
      "source": [
        "# Question 1: \n",
        "\"\"\"\n",
        "Consider the following string:\n",
        "\n",
        "Numbers = \"0123456\"\n",
        "How would you obtain the even elements?\n",
        "\"\"\"\n",
        "Numbers = \"0123456\"\n",
        "Numbers[::2]"
      ],
      "metadata": {
        "colab": {
          "base_uri": "https://localhost:8080/",
          "height": 36
        },
        "id": "R9ACyaZbHHCr",
        "outputId": "99f5176d-9dca-4ad9-e187-d9dd091638c0"
      },
      "execution_count": null,
      "outputs": [
        {
          "output_type": "execute_result",
          "data": {
            "text/plain": [
              "'0246'"
            ],
            "application/vnd.google.colaboratory.intrinsic+json": {
              "type": "string"
            }
          },
          "metadata": {},
          "execution_count": 19
        }
      ]
    },
    {
      "cell_type": "markdown",
      "source": [
        "Note: if .find() is not able to find the vaue it retreives -1\n",
        "\n",
        "If you want to print a back slash with r you must leava a space after the \\ (or any other character)"
      ],
      "metadata": {
        "id": "IYz5gTh_NdGf"
      }
    },
    {
      "cell_type": "code",
      "source": [
        "Numbers[1::2]"
      ],
      "metadata": {
        "colab": {
          "base_uri": "https://localhost:8080/",
          "height": 36
        },
        "id": "dVqyIsZGKW4G",
        "outputId": "99a598c1-26e3-41a6-b9e3-1c9215969b3e"
      },
      "execution_count": null,
      "outputs": [
        {
          "output_type": "execute_result",
          "data": {
            "text/plain": [
              "'135'"
            ],
            "application/vnd.google.colaboratory.intrinsic+json": {
              "type": "string"
            }
          },
          "metadata": {},
          "execution_count": 20
        }
      ]
    },
    {
      "cell_type": "markdown",
      "source": [
        "## Review Questions"
      ],
      "metadata": {
        "id": "aXTmEcaUMjZj"
      }
    },
    {
      "cell_type": "code",
      "source": [
        "# Question 1: What is the result of the following operation in Python:\n",
        "\n",
        "3 + 2 * 2"
      ],
      "metadata": {
        "colab": {
          "base_uri": "https://localhost:8080/"
        },
        "id": "xTdYZT9uMkLV",
        "outputId": "bb3f9210-385d-4144-caa6-238462b021ef"
      },
      "execution_count": null,
      "outputs": [
        {
          "output_type": "execute_result",
          "data": {
            "text/plain": [
              "7"
            ]
          },
          "metadata": {},
          "execution_count": 21
        }
      ]
    },
    {
      "cell_type": "code",
      "source": [
        "# Question 2: In Python, if you executed name = 'Lizz', what would be the output of print(name[0:2])?\n",
        "name = 'Lizz'\n",
        "name[0:2]"
      ],
      "metadata": {
        "colab": {
          "base_uri": "https://localhost:8080/",
          "height": 36
        },
        "id": "B-z_l9yqMo7b",
        "outputId": "44b482a9-4faa-409b-c194-52bf60f31c99"
      },
      "execution_count": null,
      "outputs": [
        {
          "output_type": "execute_result",
          "data": {
            "text/plain": [
              "'Li'"
            ],
            "application/vnd.google.colaboratory.intrinsic+json": {
              "type": "string"
            }
          },
          "metadata": {},
          "execution_count": 23
        }
      ]
    },
    {
      "cell_type": "code",
      "source": [
        "# Question 3: In Python, if you executed var = '01234567', what would be the result of print(var[::2])?\n",
        "var = '01234567'\n",
        "print(var[::2])"
      ],
      "metadata": {
        "colab": {
          "base_uri": "https://localhost:8080/"
        },
        "id": "TG2RJ2xJMuvb",
        "outputId": "1100478e-064a-4a14-d6eb-75992e5c3ebf"
      },
      "execution_count": null,
      "outputs": [
        {
          "output_type": "stream",
          "name": "stdout",
          "text": [
            "0246\n"
          ]
        }
      ]
    },
    {
      "cell_type": "code",
      "source": [
        "# QUestion 4: In Python, what is the result of the following operation '1'+'2'?\n",
        "'1' + '2'"
      ],
      "metadata": {
        "colab": {
          "base_uri": "https://localhost:8080/",
          "height": 36
        },
        "id": "8wQyG1RBM5ab",
        "outputId": "9ca1afa3-9ec7-46e6-f979-0f36ea0801fb"
      },
      "execution_count": null,
      "outputs": [
        {
          "output_type": "execute_result",
          "data": {
            "text/plain": [
              "'12'"
            ],
            "application/vnd.google.colaboratory.intrinsic+json": {
              "type": "string"
            }
          },
          "metadata": {},
          "execution_count": 25
        }
      ]
    },
    {
      "cell_type": "code",
      "source": [
        "# Question 5: Given myvar = 'hello', how would you convert myvar into uppercase?\n",
        "myvar = 'hello'\n",
        "myvar.upper()"
      ],
      "metadata": {
        "colab": {
          "base_uri": "https://localhost:8080/",
          "height": 36
        },
        "id": "Yu8KzdA4M-dr",
        "outputId": "28e8e0fc-20cd-488b-9133-f2cdbcdd0076"
      },
      "execution_count": null,
      "outputs": [
        {
          "output_type": "execute_result",
          "data": {
            "text/plain": [
              "'HELLO'"
            ],
            "application/vnd.google.colaboratory.intrinsic+json": {
              "type": "string"
            }
          },
          "metadata": {},
          "execution_count": 26
        }
      ]
    },
    {
      "cell_type": "markdown",
      "source": [
        "# Módulo 2"
      ],
      "metadata": {
        "id": "FKFgFLSPOa26"
      }
    },
    {
      "cell_type": "markdown",
      "source": [
        "## List and Tuples\n"
      ],
      "metadata": {
        "id": "pC0bZwXiOeaK"
      }
    },
    {
      "cell_type": "markdown",
      "source": [
        "Compound objects\n",
        "\n",
        "Tuple:\n",
        "* can have heterogeneous elements\n",
        "* SELECT the last element x[-1] OR \n",
        "* slicing\n",
        "* len()\n",
        "* immutable --> we cannot hange them: x[2] = 1 WRONG!\n",
        "* nesting: x[1][2][3] and so on...\n",
        "\n",
        "Lists:\n",
        "* CAN have HETEROGENEOUS elements\n",
        "* mutable --> we cannot hange them: x[2] = 1 CORRECT!\n",
        "  * .extend --> adds elements of a list at th end of another\n",
        "  * .append --> adds lists or whatever be included as a new element of the first list\n",
        "  * del(x[n]) --> deletes the element\n",
        "* .split(\"<delimiter>\") --> string to list\n",
        "* Referencing the same object: aliasing\n",
        "A = B, if change A, we change B as a side effect\n",
        "* Copy: B = A[:]"
      ],
      "metadata": {
        "id": "Y6nS8_CUOyeE"
      }
    },
    {
      "cell_type": "code",
      "source": [
        "# Question 1: How do you access the last element of the following tuple: A=(0,1,2,3)? Select all possible correct answers.\n",
        "A=(0,1,2,3)\n",
        "\n",
        "A[-1]\n",
        "A[3]"
      ],
      "metadata": {
        "colab": {
          "base_uri": "https://localhost:8080/"
        },
        "id": "-fjVGstQNF57",
        "outputId": "886e207f-0705-4f1e-f1f7-469a634ec4b0"
      },
      "execution_count": null,
      "outputs": [
        {
          "output_type": "execute_result",
          "data": {
            "text/plain": [
              "3"
            ]
          },
          "metadata": {},
          "execution_count": 30
        }
      ]
    },
    {
      "cell_type": "code",
      "source": [
        "# Question 2:\n",
        "\"\"\"\n",
        "Consider the list: B=[\"a\",\"b\",\"c\"].\n",
        "\n",
        "What is the result of the following B[1:]?\n",
        "\"\"\"\n",
        "\n",
        "B=[\"a\",\"b\",\"c\"]\n",
        "B[1:]"
      ],
      "metadata": {
        "colab": {
          "base_uri": "https://localhost:8080/"
        },
        "id": "jOFJPdsaQFOE",
        "outputId": "8d189337-42f7-47cc-e89f-edfe2b2a94ef"
      },
      "execution_count": null,
      "outputs": [
        {
          "output_type": "execute_result",
          "data": {
            "text/plain": [
              "['b', 'c']"
            ]
          },
          "metadata": {},
          "execution_count": 32
        }
      ]
    },
    {
      "cell_type": "markdown",
      "source": [
        "## Sets"
      ],
      "metadata": {
        "id": "C3GlR-MRSoY9"
      }
    },
    {
      "cell_type": "markdown",
      "source": [
        "Sets:\n",
        "* are type of collections\n",
        "* UNORDERED\n",
        "* only UNIQUE elements\n",
        "* {}\n",
        "* you can input a list and it will delete duplicates\n",
        "* .add(<element>) --> add a new element\n",
        "* .remove(<element>) --> remove element\n",
        "* in --> evaluates if an item is in the set\n",
        "* INTERSECTION of sets: &\n",
        "* UNION of sets: .union()\n",
        "* SUBSET: issubset() --> (1 is subset of 2)\n",
        "\n",
        "ALL operations have MEMORY!!! (no assign is needed,\n",
        "\n",
        "i.e x = x.add('z') WRONG!!!\n",
        "\n",
        "x.add('z') CORRECT!))"
      ],
      "metadata": {
        "id": "3-Qvm-_BSp_q"
      }
    },
    {
      "cell_type": "code",
      "source": [
        "# Question 1: What is the result of the following lines of code:\n",
        "\n",
        "S={'A','B','C'}\n",
        "\n",
        "U={'A','Z','C'}\n",
        "\n",
        "U.union(S)"
      ],
      "metadata": {
        "colab": {
          "base_uri": "https://localhost:8080/"
        },
        "id": "DUsl1peCUNqy",
        "outputId": "0ad3a09d-07c8-4897-ce5f-05852c85c543"
      },
      "execution_count": null,
      "outputs": [
        {
          "output_type": "execute_result",
          "data": {
            "text/plain": [
              "{'A', 'B', 'C', 'Z'}"
            ]
          },
          "metadata": {},
          "execution_count": 33
        }
      ]
    },
    {
      "cell_type": "code",
      "source": [
        "# Question 2: What is the intersection of set S and U?\n",
        "\n",
        "S={'A','B','C'}\n",
        "\n",
        "U={'A','Z','C'}\n",
        "\n",
        "S & U"
      ],
      "metadata": {
        "colab": {
          "base_uri": "https://localhost:8080/"
        },
        "id": "7VvcnPhFUZUd",
        "outputId": "3e295d57-8eb1-4dca-a948-fb981b89e2ef"
      },
      "execution_count": null,
      "outputs": [
        {
          "output_type": "execute_result",
          "data": {
            "text/plain": [
              "{'A', 'C'}"
            ]
          },
          "metadata": {},
          "execution_count": 34
        }
      ]
    },
    {
      "cell_type": "markdown",
      "source": [
        "## Dictionaries"
      ],
      "metadata": {
        "id": "ISrcclxVVnnP"
      }
    },
    {
      "cell_type": "markdown",
      "source": [
        "* type of collection\n",
        "* has keys and values\n",
        "* {key:value}  (ALWAYS: 1st (at left) keys, 2nd (at right) values)\n",
        "  * key is IMMUTABLE\n",
        "* x[key] --> value\n",
        "* create: x[new_key] = value\n",
        "* in searches for KEYS\n",
        "* x.keys()\n",
        "* x.values()\n"
      ],
      "metadata": {
        "id": "1jKTdavcVo9-"
      }
    },
    {
      "cell_type": "code",
      "source": [
        "# Question 1: \n",
        "\"\"\"\n",
        "Consider the following dictionary:\n",
        "\n",
        "D = {'a':0,'b':1,'c':2}\n",
        "\n",
        "What is the result of the following: D.values()?\n",
        "\"\"\"\n",
        "D = {'a':0,'b':1,'c':2}\n",
        "D.values()\n"
      ],
      "metadata": {
        "colab": {
          "base_uri": "https://localhost:8080/"
        },
        "id": "-woB1aXIUedk",
        "outputId": "ccd5faf9-9a60-4c96-9ae0-7161ccbb24a0"
      },
      "execution_count": null,
      "outputs": [
        {
          "output_type": "execute_result",
          "data": {
            "text/plain": [
              "dict_values([0, 1, 2])"
            ]
          },
          "metadata": {},
          "execution_count": 40
        }
      ]
    },
    {
      "cell_type": "code",
      "source": [
        "# Question 2: \n",
        "\"\"\"\n",
        "Consider the following dictionary:\n",
        "\n",
        "D = {'a':0,'b':1,'c':2}\n",
        "What is the output of the following D['b']?\n",
        "\"\"\"\n",
        "D = {'a':0,'b':1,'c':2}\n",
        "D['b']"
      ],
      "metadata": {
        "id": "101qcfPUY_hd",
        "outputId": "6f8a0c73-e311-4b7e-90d9-8fd628ef668c",
        "colab": {
          "base_uri": "https://localhost:8080/"
        }
      },
      "execution_count": null,
      "outputs": [
        {
          "output_type": "execute_result",
          "data": {
            "text/plain": [
              "1"
            ]
          },
          "metadata": {},
          "execution_count": 41
        }
      ]
    },
    {
      "cell_type": "markdown",
      "source": [
        "## Review Questions"
      ],
      "metadata": {
        "id": "8kTuligZYP9X"
      }
    },
    {
      "cell_type": "code",
      "source": [
        "# Question 1: What is the syntax used to obtain the first element of the tuple:\n",
        "\n",
        "A = ('a','b','c')\n",
        "A[0]"
      ],
      "metadata": {
        "colab": {
          "base_uri": "https://localhost:8080/",
          "height": 36
        },
        "id": "VtBHTacrYQjM",
        "outputId": "7309dc55-efd2-4580-ace9-9cd4823c8bf3"
      },
      "execution_count": null,
      "outputs": [
        {
          "output_type": "execute_result",
          "data": {
            "text/plain": [
              "'a'"
            ],
            "application/vnd.google.colaboratory.intrinsic+json": {
              "type": "string"
            }
          },
          "metadata": {},
          "execution_count": 35
        }
      ]
    },
    {
      "cell_type": "code",
      "source": [
        "# Question 2: After applying the following method, L.append(['a','b']), the following list will only be one element longer.\n",
        "True"
      ],
      "metadata": {
        "colab": {
          "base_uri": "https://localhost:8080/"
        },
        "id": "ybkGdbZPYW5c",
        "outputId": "1a9b98fd-eaee-497f-8ecd-e6d95f675211"
      },
      "execution_count": null,
      "outputs": [
        {
          "output_type": "execute_result",
          "data": {
            "text/plain": [
              "True"
            ]
          },
          "metadata": {},
          "execution_count": 36
        }
      ]
    },
    {
      "cell_type": "code",
      "source": [
        "# Question 3: How many duplicate elements can you have in a set?\n",
        "print('0. You can only have one unique element in a set.')"
      ],
      "metadata": {
        "colab": {
          "base_uri": "https://localhost:8080/"
        },
        "id": "Jsw1QerBYbQr",
        "outputId": "ef0d2644-3f8f-433a-c768-491b9d1c8555"
      },
      "execution_count": null,
      "outputs": [
        {
          "output_type": "stream",
          "name": "stdout",
          "text": [
            "0. You can only have one unique element in a set.\n"
          ]
        }
      ]
    },
    {
      "cell_type": "code",
      "source": [
        "# Question 4:\n",
        "\"\"\"\n",
        "Consider the following Python dictionary:\n",
        "\n",
        "Dict={\"A\":1,\"B\":\"2\",\"C\":[3,3,3],\"D\":(4,4,4),'E':5,'F':6}\n",
        "\n",
        "What is the result of the following operation: Dict[\"D\"]?\n",
        "\"\"\"\n",
        "\n",
        "Dict={\"A\":1,\"B\":\"2\",\"C\":[3,3,3],\"D\":(4,4,4),'E':5,'F':6}\n",
        "Dict['D']"
      ],
      "metadata": {
        "colab": {
          "base_uri": "https://localhost:8080/"
        },
        "id": "Xw1gNEJoYjTT",
        "outputId": "101808e2-3044-461b-dbfe-17b64456b56d"
      },
      "execution_count": null,
      "outputs": [
        {
          "output_type": "execute_result",
          "data": {
            "text/plain": [
              "(4, 4, 4)"
            ]
          },
          "metadata": {},
          "execution_count": 38
        }
      ]
    },
    {
      "cell_type": "code",
      "source": [
        "# Question 5: What is an important difference between lists and tuples?\n",
        "print('Lists are mutable, tuples are not.')"
      ],
      "metadata": {
        "colab": {
          "base_uri": "https://localhost:8080/"
        },
        "id": "RgmaqKk_YstL",
        "outputId": "2b008952-19b0-46bc-b4fa-c433b15a573b"
      },
      "execution_count": null,
      "outputs": [
        {
          "output_type": "stream",
          "name": "stdout",
          "text": [
            "Lists are mutable, tuples are not.\n"
          ]
        }
      ]
    },
    {
      "cell_type": "markdown",
      "source": [
        "#Módulo 3"
      ],
      "metadata": {
        "id": "1E1PtjW4SkP-"
      }
    },
    {
      "cell_type": "markdown",
      "source": [
        "##Conditions and Brancing"
      ],
      "metadata": {
        "id": "zYpshWgTSnAJ"
      }
    },
    {
      "cell_type": "markdown",
      "source": [
        "Copmparison Operators\n",
        "Result is a bool\n",
        "* ==\n",
        "* \\>\n",
        "* \\>=\n",
        "* !=\n",
        "\n",
        "Can be used for numbers and strings\n",
        "\n",
        "Branching\n",
        "* if ---> code just executed if condition is True, then continue\n",
        "* if else --> 1 code just executed if condition is True, ese other one is executed\n",
        "* elseif --> allows tp check additional conditions if the preceeding condition is false. ALLOWS to execuet an especial condition ONLY if 1st condition is FALSE and teh elif is TRUE\n",
        "\n",
        "Logic operators\n",
        "bool --> bool\n",
        "* not\n",
        "* or\n",
        "* and"
      ],
      "metadata": {
        "id": "NYQ_IqjdSs1B"
      }
    },
    {
      "cell_type": "code",
      "source": [
        "# Question 1: Select the values of i that produces a True for the following:\n",
        "\n",
        "# i != 0\n",
        "\n",
        "#1\n",
        "#-1\n",
        "#100000000"
      ],
      "metadata": {
        "id": "fxlHYDzISmNe"
      },
      "execution_count": 8,
      "outputs": []
    },
    {
      "cell_type": "code",
      "source": [
        "# Question 2: What is the output of the following:\n",
        "\n",
        "x='a'\n",
        "\n",
        "if(x!='a'):\n",
        "\n",
        "  print(\"This is not a.\")\n",
        "\n",
        "else:\n",
        "\n",
        "  print(\"This is a.\")"
      ],
      "metadata": {
        "colab": {
          "base_uri": "https://localhost:8080/"
        },
        "id": "RsePYKsKVo_V",
        "outputId": "ae6738fc-99d8-4a52-b028-8ca3edeb0a99"
      },
      "execution_count": 3,
      "outputs": [
        {
          "output_type": "stream",
          "name": "stdout",
          "text": [
            "This is a.\n"
          ]
        }
      ]
    },
    {
      "cell_type": "markdown",
      "source": [
        "## Loops"
      ],
      "metadata": {
        "id": "fCBbV2xOWTci"
      }
    },
    {
      "cell_type": "markdown",
      "source": [
        "range()\n",
        "* range(#) --> if +, sequence generates number from 0 to #\n",
        "* range(m,n) --> if n > m, list m to n-1\n",
        "* Python 3 WON't create EXPLICITLY the list\n",
        "*NOTE: if you want to make backwards count you must include -1 as a 3rd parameter\n",
        "\n",
        "---\n",
        "\n",
        "for\n",
        "* loop a certain amount of times (until all elements of iterable are finished)\n",
        "* performs a task over and over\n",
        "* applicable to itarate tuples, lists\n",
        "** enumerate --> adds an index to elements of a list\n",
        "\n",
        "---\n",
        "\n",
        "while\n",
        "* loop only while a condition is met\n",
        "* condition variable should me modified inside the while loop"
      ],
      "metadata": {
        "id": "L2WGvP8gWWC_"
      }
    },
    {
      "cell_type": "code",
      "source": [
        "# Personal test of range\n",
        "for i in range(10,0,-1):\n",
        "  print(i)"
      ],
      "metadata": {
        "colab": {
          "base_uri": "https://localhost:8080/"
        },
        "id": "sNXz7cTnBg77",
        "outputId": "775db6ee-1622-4c4c-9985-3b7453eaad0d"
      },
      "execution_count": 21,
      "outputs": [
        {
          "output_type": "stream",
          "name": "stdout",
          "text": [
            "10\n",
            "9\n",
            "8\n",
            "7\n",
            "6\n",
            "5\n",
            "4\n",
            "3\n",
            "2\n",
            "1\n"
          ]
        }
      ]
    },
    {
      "cell_type": "code",
      "source": [
        "# Question 1: What is the output of the following lines of code:\n",
        "\n",
        "A=[3,4,5]\n",
        "\n",
        "for a in A:\n",
        "\n",
        "  print(a)"
      ],
      "metadata": {
        "colab": {
          "base_uri": "https://localhost:8080/"
        },
        "id": "zYJ3BxlqVtrn",
        "outputId": "d5c78170-4a06-4075-8172-da4fb410da95"
      },
      "execution_count": 6,
      "outputs": [
        {
          "output_type": "stream",
          "name": "stdout",
          "text": [
            "3\n",
            "4\n",
            "5\n"
          ]
        }
      ]
    },
    {
      "cell_type": "code",
      "source": [
        "# Question 2: What is the output of the following lines of code:\n",
        "\n",
        "x=3\n",
        "\n",
        "y=1\n",
        "\n",
        "while(y!=x):\n",
        "\n",
        "  print(y)\n",
        "\n",
        "  y=y+1"
      ],
      "metadata": {
        "colab": {
          "base_uri": "https://localhost:8080/"
        },
        "id": "UChdAR-kWYMw",
        "outputId": "676943e5-2029-472b-abe3-85c12cb7ba6a"
      },
      "execution_count": 7,
      "outputs": [
        {
          "output_type": "stream",
          "name": "stdout",
          "text": [
            "1\n",
            "2\n"
          ]
        }
      ]
    },
    {
      "cell_type": "markdown",
      "source": [
        "## Functions"
      ],
      "metadata": {
        "id": "o9eClioEXNUg"
      }
    },
    {
      "cell_type": "markdown",
      "source": [
        "Piece of code that can be called many times\n",
        "\n",
        "Built-in funcitons:\n",
        "* len --> # of elements of an object (string, list, typle, set)\n",
        "* sort --> sorted(list) --> CREATES a NEW list\n",
        "* sorted --> list.sort() MODIFIES existing list\n",
        "\n",
        "\n",
        "---\n",
        "\n",
        "How to create our own function:\n",
        "\n",
        "def func_name(attribute):\n",
        "  \n",
        "  \"\"\"\n",
        "  documentation\n",
        "  \"\"\"\n",
        "\n",
        "  \\<actions>\n",
        "\n",
        "  return output\n",
        "\n",
        "---\n",
        "\n",
        "Multiple parameters:\n",
        "\n",
        "def func(parameter1, parameter2):\n",
        "  return out1, out 2\n",
        "\n",
        "---\n",
        "\n",
        "Useless function:\n",
        "\n",
        "def func():\n",
        "  \n",
        "  pass\n",
        "\n",
        "---\n",
        "\n",
        "Collecting arguments: *arg\n",
        "* allows a VARIABLE # of elements\n",
        "\n",
        "---\n",
        "Scope of a variable\n",
        "It is the part of the code WHERE VARIABLE is ACESSIBLE\n",
        "* GLOBAL --> variable accessible everywhere (defined OUTSIDE EVERYTHING)\n",
        "* LOCAL --> INSIDE a function (they die when function finishes)\n",
        "* Variables inside the global scope can have the same name as variables in the local scope with no conflict.\n",
        "* \"If a variable is not defined within a function, Python will check the global scope.\"\n",
        "* global var --> allows you to CREATE/MODIFY GLOBAL variables INSIDE a function\n",
        "\n",
        "\n"
      ],
      "metadata": {
        "id": "rZtIilMMXPIl"
      }
    },
    {
      "cell_type": "code",
      "source": [
        "# Test of the notes\n",
        "def add(x):\n",
        "  y = x+1\n",
        "  return y\n",
        "\n",
        "x = 1\n",
        "y = add(x)\n",
        "\n",
        "\n",
        "print(x,y)"
      ],
      "metadata": {
        "colab": {
          "base_uri": "https://localhost:8080/"
        },
        "id": "zwrN5xZBhf7M",
        "outputId": "f38b8e97-72c0-487a-b9c1-e5742ca8e2d4"
      },
      "execution_count": 10,
      "outputs": [
        {
          "output_type": "stream",
          "name": "stdout",
          "text": [
            "1 2\n"
          ]
        }
      ]
    },
    {
      "cell_type": "code",
      "source": [
        "# Test of the notes\n",
        "def add(ñ):\n",
        "  global x\n",
        "  x = 3\n",
        "  y = x+ñ\n",
        "  return y\n",
        "\n",
        "x = 1\n",
        "y = add(x)\n",
        "\n",
        "\n",
        "print(x,y)"
      ],
      "metadata": {
        "colab": {
          "base_uri": "https://localhost:8080/"
        },
        "id": "-cL9Wllre4hY",
        "outputId": "cf405411-8b38-4a1a-e8a4-81cefb61bdbf"
      },
      "execution_count": 17,
      "outputs": [
        {
          "output_type": "stream",
          "name": "stdout",
          "text": [
            "3 4\n"
          ]
        }
      ]
    },
    {
      "cell_type": "code",
      "source": [
        "# Questin 1: What is the value of c after the following block of code is run ?\n",
        "\n",
        "a=1\n",
        "\n",
        "def add(b):\n",
        "\n",
        "  return a+b\n",
        "\n",
        "c=add(10)\n",
        "c"
      ],
      "metadata": {
        "colab": {
          "base_uri": "https://localhost:8080/"
        },
        "id": "vwX8ohYKssd8",
        "outputId": "974dd24a-8951-4bae-a23c-bc40882606ec"
      },
      "execution_count": 13,
      "outputs": [
        {
          "output_type": "execute_result",
          "data": {
            "text/plain": [
              "11"
            ]
          },
          "metadata": {},
          "execution_count": 13
        }
      ]
    },
    {
      "cell_type": "code",
      "source": [
        "# Question 2: What is the value of c after the following block of code is run with proper numerical input?\n",
        "\n",
        "def f(*x):\n",
        "\n",
        " return sum(x)\n",
        "\n",
        "# Return the total of a variable amount of parameters."
      ],
      "metadata": {
        "id": "96QJW_ogsvDr"
      },
      "execution_count": 14,
      "outputs": []
    },
    {
      "cell_type": "markdown",
      "source": [
        "## Object and Classes"
      ],
      "metadata": {
        "id": "5v-ZO2pXDZJd"
      }
    },
    {
      "cell_type": "markdown",
      "source": [
        "Python has many data types:\n",
        "* int\n",
        "* float\n",
        "* string\n",
        "* list\n",
        "* dictionary\n",
        "* bool\n",
        "\n",
        "== object, whi has:\n",
        "* type\n",
        "* blueprint (internal data representation)\n",
        "* methods (procedures)\n",
        "\n",
        "An OBJECT is an INSTANCE of a TYPE\n",
        "\n",
        "type() --> tells you object type\n",
        "\n",
        "---\n",
        "\n",
        "Method == FUNCTION that every instance hav in coomon\n",
        "it is HOW yo interact with data\n",
        "\n",
        "\n",
        "---\n",
        "Defining classes\n",
        "* class class_name(parent_class): # class definition\n",
        "* Attributes:\n",
        "\n",
        "  def \\__init__(self,radius,color): #attributes used to ninitialize the instance of the class\n",
        "\n",
        "    >self.radius = radius;\n",
        "    \n",
        "    >self.color = color;\n",
        "\n",
        "* \\__init__ == constructur == special function that TELLS Python you are CREATINGa NEW CLASS.\n",
        "* self == referst to the newly created INSTANCE of the CLASS == box containing all ATTRIBUTES of the object\n",
        "* changing attribute object.attribute_name = value\n",
        "\n",
        "---\n",
        "Methods\n",
        "\n",
        "Functions that interact with attributes (changing/using them)\n",
        "\n",
        "def add_radius(self,r):\n",
        "  > self.radius = self.radius + r\n",
        "\n",
        "  > return (slef.radius)\n",
        "\n",
        "  ---\n",
        "\n",
        "  dir() --> name methods & attributes of a class\n"
      ],
      "metadata": {
        "id": "ThEciOf1Db28"
      }
    },
    {
      "cell_type": "code",
      "source": [
        "# Question 1: Using the Class Car in the lab, create a Car object with the following attributes:\n",
        "\n",
        "make=\"Honda\"\n",
        "\n",
        "model=\"Accord\"\n",
        "\n",
        "color=\"blue\"\n",
        "\n",
        "# Unable to open this particular lab"
      ],
      "metadata": {
        "id": "5q8i6cuJs5Tb"
      },
      "execution_count": null,
      "outputs": []
    },
    {
      "cell_type": "code",
      "source": [
        "# Question 2: From the lab, how would you change the data attribute owner_number ?\n",
        "\n",
        "# Unable to open this particular lab"
      ],
      "metadata": {
        "id": "81jffs61NGH9"
      },
      "execution_count": null,
      "outputs": []
    },
    {
      "cell_type": "markdown",
      "source": [
        "###Lab: Class creation\n"
      ],
      "metadata": {
        "id": "l2A7_TWBM40K"
      }
    },
    {
      "cell_type": "markdown",
      "source": [
        "You have been recruited by your friend, a linguistics enthusiast, to create a utility tool that can perform analysis on a given piece of text. Complete the class\n",
        "'analysedText' with the following methods -\n",
        "\n",
        "<ul>\n",
        "    <li> Constructor (__init__) - This method should take the argument <code>text</code>, make it lower case, and remove all punctuation.  Assume only the following punctuation is used: period (.), exclamation mark (!), comma (,) and question mark (?). Assign this newly formatted text to a new attribute called <code>fmtText</code>.\n",
        "    <li> freqAll - This method should create and <strong>return</strong> dictionary of all unique words in the text, along with the number of times they occur in the text. Each key in the dictionary should be the unique word appearing in the text and the associated value should be the number of times it occurs in the text. Create this dictionary from the <code>fmtText</code> attribute.\n",
        "    <li> freqOf - This method should take a word as an argument and <strong>return</strong> the number of occurrences of that word in <code>fmtText</code>.\n",
        "</ul>\n",
        " The skeleton code has been given to you. Docstrings can be ignored for the purpose of the exercise. <br>\n",
        " <i> Hint: Some useful functions are <code>replace()</code>, <code>lower()</code>, <code>split()</code>, <code>count()</code> </i><br>\n"
      ],
      "metadata": {
        "id": "8dEPaz3lM-3S"
      }
    },
    {
      "cell_type": "code",
      "source": [
        "# Function I created\n",
        "class analysedText(object):\n",
        "    \n",
        "    def __init__ (self, text):\n",
        "        \n",
        "        self.fmtText = text.lower().replace('.','').replace(',','').replace('?','').replace('!','')\n",
        "\n",
        "        # TODO: Remove the punctuation from <text> and make it lower case.\n",
        "        \n",
        "\n",
        "        # TODO: Assign the formatted text to a new attribute called \"fmtText\"\n",
        "        \n",
        "        pass \n",
        "    \n",
        "    def freqAll(self):    \n",
        "\n",
        "        # TODO: Split the text into a list of words\n",
        "        list = self.fmtText.split(' ')\n",
        "\n",
        "        # TODO: Create a dictionary with the unique words in the text as keys\n",
        "        unique = set(list)\n",
        "        \n",
        "        # and the number of times they occur in the text as values\n",
        "        dict = {x:list.count(x) for x in unique}\n",
        "        \n",
        "        return dict # return the created dictionary\n",
        "    \n",
        "    def freqOf(self, word):\n",
        "        dict = self.freqAll()\n",
        "        # TODO: return the number of occurrences of <word> in <fmtText>\n",
        "        if word in dict:\n",
        "            y = dict[word]\n",
        "        else:\n",
        "            y = 0\n",
        "            \n",
        "        return y\n",
        "    "
      ],
      "metadata": {
        "id": "xj2box2bM7Hk"
      },
      "execution_count": null,
      "outputs": []
    },
    {
      "cell_type": "markdown",
      "source": [
        "### Lab: Exception handling\n"
      ],
      "metadata": {
        "id": "xHXJcjQCOWN7"
      }
    },
    {
      "cell_type": "markdown",
      "source": [
        "Examples:\n",
        "* ZeroDivisionError occurs when you try to divide by zero.\n",
        "* NameError -- in this case, it means that you tried to use the variable a when it was not defined.\n",
        "Try-except:\n",
        "* \n",
        "Specific try-except:\n",
        "* allows you to catch certain exceptions and also execute certain code depending on the exception.\n",
        "* hamdling 2 type of errors the same way: except (ZeroDivisionError, NameError):\n",
        "* you can also have an empty except at the end to catch an unexpected exception:\n",
        "* else allows one to check if there was no exception when executing the try block. This is useful when we want to execute something only if there were no errors.\n",
        "* finally allows us to always execute something even if there is an exception or not. This is usually used to signify the end of the try except."
      ],
      "metadata": {
        "id": "2DxZgPEVOcaY"
      }
    },
    {
      "cell_type": "markdown",
      "source": [
        "## Review Questions"
      ],
      "metadata": {
        "id": "UUxVMIq-PRlW"
      }
    },
    {
      "cell_type": "code",
      "source": [
        "# Question 1: What is the output of the following lines of code:\n",
        "\n",
        "x=1\n",
        "\n",
        "if(x!=1):\n",
        "\n",
        "  print('Hello')\n",
        "\n",
        "else:\n",
        "\n",
        "  print('Hi')\n",
        "\n",
        "print('Mike')"
      ],
      "metadata": {
        "colab": {
          "base_uri": "https://localhost:8080/"
        },
        "id": "pjmFuPtXPUwk",
        "outputId": "b5420191-84a4-441a-bc79-0cf5af6d7d5d"
      },
      "execution_count": 22,
      "outputs": [
        {
          "output_type": "stream",
          "name": "stdout",
          "text": [
            "Hi\n",
            "Mike\n"
          ]
        }
      ]
    },
    {
      "cell_type": "code",
      "source": [
        "# Question 2: What is the output of the following few lines of code?\n",
        "\n",
        "A = ['1','2','3']\n",
        "\n",
        "for a in A:\n",
        "\n",
        "  print(2*a)"
      ],
      "metadata": {
        "colab": {
          "base_uri": "https://localhost:8080/"
        },
        "id": "usmWYe5SPlX3",
        "outputId": "8ffe0147-4a4d-47db-99f6-a1612633a6a6"
      },
      "execution_count": 23,
      "outputs": [
        {
          "output_type": "stream",
          "name": "stdout",
          "text": [
            "11\n",
            "22\n",
            "33\n"
          ]
        }
      ]
    },
    {
      "cell_type": "code",
      "source": [
        "# Question 3: Consider the function Delta, when will the function return a value of 1\n",
        "\n",
        "def Delta(x):\n",
        "\n",
        "  if x==0:\n",
        "\n",
        "    y=1;\n",
        "\n",
        "  else:\n",
        "\n",
        "    y=0;\n",
        "\n",
        "  return(y)\n",
        "\n",
        "print(Delta(0))"
      ],
      "metadata": {
        "colab": {
          "base_uri": "https://localhost:8080/"
        },
        "id": "KU8Ko2H7PtYJ",
        "outputId": "f371d2d7-e361-4ba5-c6bc-3e6733c63f62"
      },
      "execution_count": 25,
      "outputs": [
        {
          "output_type": "stream",
          "name": "stdout",
          "text": [
            "1\n"
          ]
        }
      ]
    },
    {
      "cell_type": "code",
      "source": [
        "# Question 4: What is the correct way to sort the list 'B' using a method? The result should not return a new list, just change the list 'B'.\n",
        "\n",
        "#B.sort()"
      ],
      "metadata": {
        "id": "ejq-TQewQG_G"
      },
      "execution_count": 26,
      "outputs": []
    },
    {
      "cell_type": "code",
      "source": [
        "# Question 5: What are the keys of the following dictionary: {'a':1,'b':2}?\n",
        "#a,b"
      ],
      "metadata": {
        "id": "tWoqous7QLgC"
      },
      "execution_count": null,
      "outputs": []
    }
  ]
}