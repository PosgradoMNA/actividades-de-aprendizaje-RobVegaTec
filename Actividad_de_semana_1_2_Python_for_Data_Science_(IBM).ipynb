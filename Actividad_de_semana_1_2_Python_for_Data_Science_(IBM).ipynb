{
  "nbformat": 4,
  "nbformat_minor": 0,
  "metadata": {
    "colab": {
      "provenance": [],
      "collapsed_sections": [],
      "toc_visible": true,
      "authorship_tag": "ABX9TyPZmaq5+NVBtGlMmTfFIoEp",
      "include_colab_link": true
    },
    "kernelspec": {
      "name": "python3",
      "display_name": "Python 3"
    },
    "language_info": {
      "name": "python"
    }
  },
  "cells": [
    {
      "cell_type": "markdown",
      "metadata": {
        "id": "view-in-github",
        "colab_type": "text"
      },
      "source": [
        "<a href=\"https://colab.research.google.com/github/PosgradoMNA/actividades-de-aprendizaje-RobVegaTec/blob/main/Actividad_de_semana_1_2_Python_for_Data_Science_(IBM).ipynb\" target=\"_parent\"><img src=\"https://colab.research.google.com/assets/colab-badge.svg\" alt=\"Open In Colab\"/></a>"
      ]
    },
    {
      "cell_type": "markdown",
      "source": [
        "Materia: Ciencia y analítica de datos\n",
        "\n",
        "Nombre del alumno: Roberto Vega Alanis\n",
        "\n",
        "Matrícula: A01378921"
      ],
      "metadata": {
        "id": "_K9gJI9A_Ae-"
      }
    },
    {
      "cell_type": "markdown",
      "source": [
        "# Módulo 1"
      ],
      "metadata": {
        "id": "ekn3hjRss9n7"
      }
    },
    {
      "cell_type": "markdown",
      "source": [
        "## Your First Program"
      ],
      "metadata": {
        "id": "3sB1ZcIvEKyB"
      }
    },
    {
      "cell_type": "code",
      "execution_count": null,
      "metadata": {
        "colab": {
          "base_uri": "https://localhost:8080/"
        },
        "id": "cEnBrpc2s4_a",
        "outputId": "c3e7b56c-6efd-4d46-c28f-ede478124513"
      },
      "outputs": [
        {
          "output_type": "stream",
          "name": "stdout",
          "text": [
            "Hello Python 101\n"
          ]
        }
      ],
      "source": [
        "# This is a comment example: print Hello Python 101 \n",
        "print('Hello Python 101')"
      ]
    },
    {
      "cell_type": "code",
      "source": [
        "# Questinon 1: Using the Practice Lab, find the result of executing print(\"Hello\\nWorld!\") statement.\n",
        "print(\"Hello\\nWorld!\")"
      ],
      "metadata": {
        "colab": {
          "base_uri": "https://localhost:8080/"
        },
        "id": "lUXuSIrptjFL",
        "outputId": "d32cf492-513b-4d46-fc46-0a7b0efc22c8"
      },
      "execution_count": null,
      "outputs": [
        {
          "output_type": "stream",
          "name": "stdout",
          "text": [
            "Hello\n",
            "World!\n"
          ]
        }
      ]
    },
    {
      "cell_type": "code",
      "source": [
        "# Question 2: What is the output of executing the following statement: # print('Hello World!')?\n",
        "# print('Hello World!')\n",
        "# There is no output as it is a comment"
      ],
      "metadata": {
        "id": "UpUL3hylEb1C"
      },
      "execution_count": null,
      "outputs": []
    },
    {
      "cell_type": "markdown",
      "source": [
        "## Types"
      ],
      "metadata": {
        "id": "ROIsAdYCFlm-"
      }
    },
    {
      "cell_type": "code",
      "source": [
        "# Question 1: What is the type of the following: int(1.0)?\n",
        "type(int(1.0))"
      ],
      "metadata": {
        "colab": {
          "base_uri": "https://localhost:8080/"
        },
        "id": "mKdc9soHEtpL",
        "outputId": "3ebe1cd2-3b49-452c-fce1-4e899297f8e4"
      },
      "execution_count": null,
      "outputs": [
        {
          "output_type": "execute_result",
          "data": {
            "text/plain": [
              "int"
            ]
          },
          "metadata": {},
          "execution_count": 4
        }
      ]
    },
    {
      "cell_type": "code",
      "source": [
        "# Question 2: Enter the code to convert the number 1 to a Boolean.\n",
        "bool(1)"
      ],
      "metadata": {
        "colab": {
          "base_uri": "https://localhost:8080/"
        },
        "id": "dWVgi5uKFsL6",
        "outputId": "771bb32b-cdab-4a76-da46-d47d45e917e6"
      },
      "execution_count": null,
      "outputs": [
        {
          "output_type": "execute_result",
          "data": {
            "text/plain": [
              "True"
            ]
          },
          "metadata": {},
          "execution_count": 5
        }
      ]
    },
    {
      "cell_type": "code",
      "source": [
        "# Discussion: My contribution\n",
        "\n",
        "\"\"\"\n",
        "bool() effect in numbers\n",
        "discusión publicada hace hace menos de un minuto por Rob-Vega\n",
        "\n",
        "Note the following; bool() function will always be True for any int or number except for 0:\n",
        "\n",
        "bool(10) --> True\n",
        "\n",
        "bool(1.1) --> True\n",
        "\n",
        "bool(-10) --> True\n",
        "\n",
        "bool(-1.1) --> True\n",
        "\n",
        "bool(0) --> True\n",
        "\"\"\""
      ],
      "metadata": {
        "colab": {
          "base_uri": "https://localhost:8080/",
          "height": 70
        },
        "id": "Qkfic1kDFySK",
        "outputId": "327833cf-5e21-4fb7-eb2e-8fd9527b7d77"
      },
      "execution_count": null,
      "outputs": [
        {
          "output_type": "execute_result",
          "data": {
            "text/plain": [
              "'\\nbool() effect in numbers\\ndiscusión publicada hace hace menos de un minuto por Rob-Vega\\n\\nNote the following; bool() function will always be True for any int or number except for 0:\\n\\nbool(10) --> True\\n\\nbool(1.1) --> True\\n\\nbool(-10) --> True\\n\\nbool(-1.1) --> True\\n\\nbool(0) --> True\\n'"
            ],
            "application/vnd.google.colaboratory.intrinsic+json": {
              "type": "string"
            }
          },
          "metadata": {},
          "execution_count": 6
        }
      ]
    },
    {
      "cell_type": "markdown",
      "source": [
        "## Expressions and Variables\n",
        "\n",
        "Expression = operation\n",
        "oreand:numbers \n",
        "operators: + - * % /\n",
        "\n",
        "// = int division\n",
        "\n",
        "Operation orders\n",
        "\n",
        "Variables --> to assign values to n object\n",
        "\n",
        "use a meaninful name for variables"
      ],
      "metadata": {
        "id": "qLHQUdniHHhb"
      }
    },
    {
      "cell_type": "markdown",
      "source": [
        "## String Operations\n",
        "\n",
        "\n",
        "\\ escape sequences\n",
        "r to cnsider the backslash as an element"
      ],
      "metadata": {
        "id": "Xr38FQPZJh-0"
      }
    },
    {
      "cell_type": "markdown",
      "source": [
        "Sequence methods:\n",
        "\n",
        "String methods:\n",
        "\n",
        "upper()\n",
        "\n",
        "replace(target,replace_element)\n",
        "\n",
        "find(substring) --> first index of the substr in string\n"
      ],
      "metadata": {
        "id": "JMntQ4-VJ66q"
      }
    },
    {
      "cell_type": "code",
      "source": [
        "# Question 1: \n",
        "\"\"\"\n",
        "Consider the following string:\n",
        "\n",
        "Numbers = \"0123456\"\n",
        "How would you obtain the even elements?\n",
        "\"\"\"\n",
        "Numbers = \"0123456\"\n",
        "Numbers[::2]"
      ],
      "metadata": {
        "colab": {
          "base_uri": "https://localhost:8080/",
          "height": 36
        },
        "id": "R9ACyaZbHHCr",
        "outputId": "81f04c45-0c12-4ce2-e6fe-1d23143cd4ac"
      },
      "execution_count": null,
      "outputs": [
        {
          "output_type": "execute_result",
          "data": {
            "text/plain": [
              "'0246'"
            ],
            "application/vnd.google.colaboratory.intrinsic+json": {
              "type": "string"
            }
          },
          "metadata": {},
          "execution_count": 7
        }
      ]
    },
    {
      "cell_type": "markdown",
      "source": [
        "Note: if .find() is not able to find the vaue it retreives -1\n",
        "\n",
        "If you want to print a back slash with r you must leava a space after the \\ (or any other character)"
      ],
      "metadata": {
        "id": "IYz5gTh_NdGf"
      }
    },
    {
      "cell_type": "code",
      "source": [
        "Numbers[1::2]"
      ],
      "metadata": {
        "colab": {
          "base_uri": "https://localhost:8080/",
          "height": 36
        },
        "id": "dVqyIsZGKW4G",
        "outputId": "487e4a2f-dff3-4c26-c702-3353b0ec37f3"
      },
      "execution_count": null,
      "outputs": [
        {
          "output_type": "execute_result",
          "data": {
            "text/plain": [
              "'135'"
            ],
            "application/vnd.google.colaboratory.intrinsic+json": {
              "type": "string"
            }
          },
          "metadata": {},
          "execution_count": 8
        }
      ]
    },
    {
      "cell_type": "markdown",
      "source": [
        "## Review Questions"
      ],
      "metadata": {
        "id": "aXTmEcaUMjZj"
      }
    },
    {
      "cell_type": "code",
      "source": [
        "# Question 1: What is the result of the following operation in Python:\n",
        "\n",
        "3 + 2 * 2"
      ],
      "metadata": {
        "colab": {
          "base_uri": "https://localhost:8080/"
        },
        "id": "xTdYZT9uMkLV",
        "outputId": "b8996bbd-72ea-4c53-c6b6-9bab25613d3d"
      },
      "execution_count": null,
      "outputs": [
        {
          "output_type": "execute_result",
          "data": {
            "text/plain": [
              "7"
            ]
          },
          "metadata": {},
          "execution_count": 9
        }
      ]
    },
    {
      "cell_type": "code",
      "source": [
        "# Question 2: In Python, if you executed name = 'Lizz', what would be the output of print(name[0:2])?\n",
        "name = 'Lizz'\n",
        "name[0:2]"
      ],
      "metadata": {
        "colab": {
          "base_uri": "https://localhost:8080/",
          "height": 36
        },
        "id": "B-z_l9yqMo7b",
        "outputId": "1cd2df25-a958-46db-9067-26b33f521b85"
      },
      "execution_count": null,
      "outputs": [
        {
          "output_type": "execute_result",
          "data": {
            "text/plain": [
              "'Li'"
            ],
            "application/vnd.google.colaboratory.intrinsic+json": {
              "type": "string"
            }
          },
          "metadata": {},
          "execution_count": 10
        }
      ]
    },
    {
      "cell_type": "code",
      "source": [
        "# Question 3: In Python, if you executed var = '01234567', what would be the result of print(var[::2])?\n",
        "var = '01234567'\n",
        "print(var[::2])"
      ],
      "metadata": {
        "colab": {
          "base_uri": "https://localhost:8080/"
        },
        "id": "TG2RJ2xJMuvb",
        "outputId": "3e5131db-1c83-43fb-b931-656bf0257940"
      },
      "execution_count": null,
      "outputs": [
        {
          "output_type": "stream",
          "name": "stdout",
          "text": [
            "0246\n"
          ]
        }
      ]
    },
    {
      "cell_type": "code",
      "source": [
        "# QUestion 4: In Python, what is the result of the following operation '1'+'2'?\n",
        "'1' + '2'"
      ],
      "metadata": {
        "colab": {
          "base_uri": "https://localhost:8080/",
          "height": 36
        },
        "id": "8wQyG1RBM5ab",
        "outputId": "70267593-1c57-48ee-de4d-883b4308c62a"
      },
      "execution_count": null,
      "outputs": [
        {
          "output_type": "execute_result",
          "data": {
            "text/plain": [
              "'12'"
            ],
            "application/vnd.google.colaboratory.intrinsic+json": {
              "type": "string"
            }
          },
          "metadata": {},
          "execution_count": 12
        }
      ]
    },
    {
      "cell_type": "code",
      "source": [
        "# Question 5: Given myvar = 'hello', how would you convert myvar into uppercase?\n",
        "myvar = 'hello'\n",
        "myvar.upper()"
      ],
      "metadata": {
        "colab": {
          "base_uri": "https://localhost:8080/",
          "height": 36
        },
        "id": "Yu8KzdA4M-dr",
        "outputId": "f68ceb41-58e0-4c71-fb19-82f8cd2516e2"
      },
      "execution_count": null,
      "outputs": [
        {
          "output_type": "execute_result",
          "data": {
            "text/plain": [
              "'HELLO'"
            ],
            "application/vnd.google.colaboratory.intrinsic+json": {
              "type": "string"
            }
          },
          "metadata": {},
          "execution_count": 13
        }
      ]
    },
    {
      "cell_type": "markdown",
      "source": [
        "# Módulo 2"
      ],
      "metadata": {
        "id": "FKFgFLSPOa26"
      }
    },
    {
      "cell_type": "markdown",
      "source": [
        "## List and Tuples\n"
      ],
      "metadata": {
        "id": "pC0bZwXiOeaK"
      }
    },
    {
      "cell_type": "markdown",
      "source": [
        "Compound objects\n",
        "\n",
        "Tuple:\n",
        "* can have heterogeneous elements\n",
        "* SELECT the last element x[-1] OR \n",
        "* slicing\n",
        "* len()\n",
        "* immutable --> we cannot hange them: x[2] = 1 WRONG!\n",
        "* nesting: x[1][2][3] and so on...\n",
        "\n",
        "Lists:\n",
        "* CAN have HETEROGENEOUS elements\n",
        "* mutable --> we cannot hange them: x[2] = 1 CORRECT!\n",
        "  * .extend --> adds elements of a list at th end of another\n",
        "  * .append --> adds lists or whatever be included as a new element of the first list\n",
        "  * del(x[n]) --> deletes the element\n",
        "* .split(\"<delimiter>\") --> string to list\n",
        "* Referencing the same object: aliasing\n",
        "A = B, if change A, we change B as a side effect\n",
        "* Copy: B = A[:]"
      ],
      "metadata": {
        "id": "Y6nS8_CUOyeE"
      }
    },
    {
      "cell_type": "code",
      "source": [
        "# Question 1: How do you access the last element of the following tuple: A=(0,1,2,3)? Select all possible correct answers.\n",
        "A=(0,1,2,3)\n",
        "\n",
        "A[-1]\n",
        "A[3]"
      ],
      "metadata": {
        "colab": {
          "base_uri": "https://localhost:8080/"
        },
        "id": "-fjVGstQNF57",
        "outputId": "3b8a7c9c-6ee5-474d-f85c-a6a724f23cac"
      },
      "execution_count": null,
      "outputs": [
        {
          "output_type": "execute_result",
          "data": {
            "text/plain": [
              "3"
            ]
          },
          "metadata": {},
          "execution_count": 14
        }
      ]
    },
    {
      "cell_type": "code",
      "source": [
        "# Question 2:\n",
        "\"\"\"\n",
        "Consider the list: B=[\"a\",\"b\",\"c\"].\n",
        "\n",
        "What is the result of the following B[1:]?\n",
        "\"\"\"\n",
        "\n",
        "B=[\"a\",\"b\",\"c\"]\n",
        "B[1:]"
      ],
      "metadata": {
        "colab": {
          "base_uri": "https://localhost:8080/"
        },
        "id": "jOFJPdsaQFOE",
        "outputId": "d9735eb8-a55b-4701-a528-2c2d02de8a7a"
      },
      "execution_count": null,
      "outputs": [
        {
          "output_type": "execute_result",
          "data": {
            "text/plain": [
              "['b', 'c']"
            ]
          },
          "metadata": {},
          "execution_count": 15
        }
      ]
    },
    {
      "cell_type": "markdown",
      "source": [
        "## Sets"
      ],
      "metadata": {
        "id": "C3GlR-MRSoY9"
      }
    },
    {
      "cell_type": "markdown",
      "source": [
        "Sets:\n",
        "* are type of collections\n",
        "* UNORDERED\n",
        "* only UNIQUE elements\n",
        "* {}\n",
        "* you can input a list and it will delete duplicates\n",
        "* .add(<element>) --> add a new element\n",
        "* .remove(<element>) --> remove element\n",
        "* in --> evaluates if an item is in the set\n",
        "* INTERSECTION of sets: &\n",
        "* UNION of sets: .union()\n",
        "* SUBSET: issubset() --> (1 is subset of 2)\n",
        "\n",
        "ALL operations have MEMORY!!! (no assign is needed,\n",
        "\n",
        "i.e x = x.add('z') WRONG!!!\n",
        "\n",
        "x.add('z') CORRECT!))"
      ],
      "metadata": {
        "id": "3-Qvm-_BSp_q"
      }
    },
    {
      "cell_type": "code",
      "source": [
        "# Question 1: What is the result of the following lines of code:\n",
        "\n",
        "S={'A','B','C'}\n",
        "\n",
        "U={'A','Z','C'}\n",
        "\n",
        "U.union(S)"
      ],
      "metadata": {
        "colab": {
          "base_uri": "https://localhost:8080/"
        },
        "id": "DUsl1peCUNqy",
        "outputId": "8e3ff81d-62fa-4cd4-c2a1-697286445263"
      },
      "execution_count": null,
      "outputs": [
        {
          "output_type": "execute_result",
          "data": {
            "text/plain": [
              "{'A', 'B', 'C', 'Z'}"
            ]
          },
          "metadata": {},
          "execution_count": 16
        }
      ]
    },
    {
      "cell_type": "code",
      "source": [
        "# Question 2: What is the intersection of set S and U?\n",
        "\n",
        "S={'A','B','C'}\n",
        "\n",
        "U={'A','Z','C'}\n",
        "\n",
        "S & U"
      ],
      "metadata": {
        "colab": {
          "base_uri": "https://localhost:8080/"
        },
        "id": "7VvcnPhFUZUd",
        "outputId": "8d585d39-1aa6-4b1b-ed05-087d83b08dab"
      },
      "execution_count": null,
      "outputs": [
        {
          "output_type": "execute_result",
          "data": {
            "text/plain": [
              "{'A', 'C'}"
            ]
          },
          "metadata": {},
          "execution_count": 17
        }
      ]
    },
    {
      "cell_type": "markdown",
      "source": [
        "## Dictionaries"
      ],
      "metadata": {
        "id": "ISrcclxVVnnP"
      }
    },
    {
      "cell_type": "markdown",
      "source": [
        "* type of collection\n",
        "* has keys and values\n",
        "* {key:value}  (ALWAYS: 1st (at left) keys, 2nd (at right) values)\n",
        "  * key is IMMUTABLE\n",
        "* x[key] --> value\n",
        "* create: x[new_key] = value\n",
        "* in searches for KEYS\n",
        "* x.keys()\n",
        "* x.values()\n"
      ],
      "metadata": {
        "id": "1jKTdavcVo9-"
      }
    },
    {
      "cell_type": "code",
      "source": [
        "# Question 1: \n",
        "\"\"\"\n",
        "Consider the following dictionary:\n",
        "\n",
        "D = {'a':0,'b':1,'c':2}\n",
        "\n",
        "What is the result of the following: D.values()?\n",
        "\"\"\"\n",
        "D = {'a':0,'b':1,'c':2}\n",
        "D.values()\n"
      ],
      "metadata": {
        "colab": {
          "base_uri": "https://localhost:8080/"
        },
        "id": "-woB1aXIUedk",
        "outputId": "df40d1c2-86d6-4298-98dd-e3ad2aacd020"
      },
      "execution_count": null,
      "outputs": [
        {
          "output_type": "execute_result",
          "data": {
            "text/plain": [
              "dict_values([0, 1, 2])"
            ]
          },
          "metadata": {},
          "execution_count": 18
        }
      ]
    },
    {
      "cell_type": "code",
      "source": [
        "# Question 2: \n",
        "\"\"\"\n",
        "Consider the following dictionary:\n",
        "\n",
        "D = {'a':0,'b':1,'c':2}\n",
        "What is the output of the following D['b']?\n",
        "\"\"\"\n",
        "D = {'a':0,'b':1,'c':2}\n",
        "D['b']"
      ],
      "metadata": {
        "id": "101qcfPUY_hd",
        "outputId": "5c696677-de0b-416e-f825-f6fca9872257",
        "colab": {
          "base_uri": "https://localhost:8080/"
        }
      },
      "execution_count": null,
      "outputs": [
        {
          "output_type": "execute_result",
          "data": {
            "text/plain": [
              "1"
            ]
          },
          "metadata": {},
          "execution_count": 19
        }
      ]
    },
    {
      "cell_type": "markdown",
      "source": [
        "## Review Questions"
      ],
      "metadata": {
        "id": "8kTuligZYP9X"
      }
    },
    {
      "cell_type": "code",
      "source": [
        "# Question 1: What is the syntax used to obtain the first element of the tuple:\n",
        "\n",
        "A = ('a','b','c')\n",
        "A[0]"
      ],
      "metadata": {
        "colab": {
          "base_uri": "https://localhost:8080/",
          "height": 36
        },
        "id": "VtBHTacrYQjM",
        "outputId": "d37d7f1f-3f10-4183-ee35-5381b16a1985"
      },
      "execution_count": null,
      "outputs": [
        {
          "output_type": "execute_result",
          "data": {
            "text/plain": [
              "'a'"
            ],
            "application/vnd.google.colaboratory.intrinsic+json": {
              "type": "string"
            }
          },
          "metadata": {},
          "execution_count": 20
        }
      ]
    },
    {
      "cell_type": "code",
      "source": [
        "# Question 2: After applying the following method, L.append(['a','b']), the following list will only be one element longer.\n",
        "True"
      ],
      "metadata": {
        "colab": {
          "base_uri": "https://localhost:8080/"
        },
        "id": "ybkGdbZPYW5c",
        "outputId": "86246946-6056-477b-cce3-ad0177cb7a38"
      },
      "execution_count": null,
      "outputs": [
        {
          "output_type": "execute_result",
          "data": {
            "text/plain": [
              "True"
            ]
          },
          "metadata": {},
          "execution_count": 21
        }
      ]
    },
    {
      "cell_type": "code",
      "source": [
        "# Question 3: How many duplicate elements can you have in a set?\n",
        "print('0. You can only have one unique element in a set.')"
      ],
      "metadata": {
        "colab": {
          "base_uri": "https://localhost:8080/"
        },
        "id": "Jsw1QerBYbQr",
        "outputId": "ea3b8b58-e8e4-41f6-81f1-313af4a8ace2"
      },
      "execution_count": null,
      "outputs": [
        {
          "output_type": "stream",
          "name": "stdout",
          "text": [
            "0. You can only have one unique element in a set.\n"
          ]
        }
      ]
    },
    {
      "cell_type": "code",
      "source": [
        "# Question 4:\n",
        "\"\"\"\n",
        "Consider the following Python dictionary:\n",
        "\n",
        "Dict={\"A\":1,\"B\":\"2\",\"C\":[3,3,3],\"D\":(4,4,4),'E':5,'F':6}\n",
        "\n",
        "What is the result of the following operation: Dict[\"D\"]?\n",
        "\"\"\"\n",
        "\n",
        "Dict={\"A\":1,\"B\":\"2\",\"C\":[3,3,3],\"D\":(4,4,4),'E':5,'F':6}\n",
        "Dict['D']"
      ],
      "metadata": {
        "colab": {
          "base_uri": "https://localhost:8080/"
        },
        "id": "Xw1gNEJoYjTT",
        "outputId": "c4a631f9-3c4f-4bd1-d3bd-26ab79d1f3eb"
      },
      "execution_count": null,
      "outputs": [
        {
          "output_type": "execute_result",
          "data": {
            "text/plain": [
              "(4, 4, 4)"
            ]
          },
          "metadata": {},
          "execution_count": 23
        }
      ]
    },
    {
      "cell_type": "code",
      "source": [
        "# Question 5: What is an important difference between lists and tuples?\n",
        "print('Lists are mutable, tuples are not.')"
      ],
      "metadata": {
        "colab": {
          "base_uri": "https://localhost:8080/"
        },
        "id": "RgmaqKk_YstL",
        "outputId": "2dd3fd53-77e5-40eb-a82f-43a84aaee334"
      },
      "execution_count": null,
      "outputs": [
        {
          "output_type": "stream",
          "name": "stdout",
          "text": [
            "Lists are mutable, tuples are not.\n"
          ]
        }
      ]
    },
    {
      "cell_type": "markdown",
      "source": [
        "#Módulo 3"
      ],
      "metadata": {
        "id": "1E1PtjW4SkP-"
      }
    },
    {
      "cell_type": "markdown",
      "source": [
        "##Conditions and Brancing"
      ],
      "metadata": {
        "id": "zYpshWgTSnAJ"
      }
    },
    {
      "cell_type": "markdown",
      "source": [
        "Copmparison Operators\n",
        "Result is a bool\n",
        "* ==\n",
        "* \\>\n",
        "* \\>=\n",
        "* !=\n",
        "\n",
        "Can be used for numbers and strings\n",
        "\n",
        "Branching\n",
        "* if ---> code just executed if condition is True, then continue\n",
        "* if else --> 1 code just executed if condition is True, ese other one is executed\n",
        "* elseif --> allows tp check additional conditions if the preceeding condition is false. ALLOWS to execuet an especial condition ONLY if 1st condition is FALSE and teh elif is TRUE\n",
        "\n",
        "Logic operators\n",
        "bool --> bool\n",
        "* not\n",
        "* or\n",
        "* and"
      ],
      "metadata": {
        "id": "NYQ_IqjdSs1B"
      }
    },
    {
      "cell_type": "code",
      "source": [
        "# Question 1: Select the values of i that produces a True for the following:\n",
        "\n",
        "# i != 0\n",
        "\n",
        "#1\n",
        "#-1\n",
        "#100000000"
      ],
      "metadata": {
        "id": "fxlHYDzISmNe"
      },
      "execution_count": null,
      "outputs": []
    },
    {
      "cell_type": "code",
      "source": [
        "# Question 2: What is the output of the following:\n",
        "\n",
        "x='a'\n",
        "\n",
        "if(x!='a'):\n",
        "\n",
        "  print(\"This is not a.\")\n",
        "\n",
        "else:\n",
        "\n",
        "  print(\"This is a.\")"
      ],
      "metadata": {
        "colab": {
          "base_uri": "https://localhost:8080/"
        },
        "id": "RsePYKsKVo_V",
        "outputId": "3f30d0d0-9c96-44f8-a345-8451ec894145"
      },
      "execution_count": null,
      "outputs": [
        {
          "output_type": "stream",
          "name": "stdout",
          "text": [
            "This is a.\n"
          ]
        }
      ]
    },
    {
      "cell_type": "markdown",
      "source": [
        "## Loops"
      ],
      "metadata": {
        "id": "fCBbV2xOWTci"
      }
    },
    {
      "cell_type": "markdown",
      "source": [
        "range()\n",
        "* range(#) --> if +, sequence generates number from 0 to #\n",
        "* range(m,n) --> if n > m, list m to n-1\n",
        "* Python 3 WON't create EXPLICITLY the list\n",
        "*NOTE: if you want to make backwards count you must include -1 as a 3rd parameter\n",
        "\n",
        "---\n",
        "\n",
        "for\n",
        "* loop a certain amount of times (until all elements of iterable are finished)\n",
        "* performs a task over and over\n",
        "* applicable to itarate tuples, lists\n",
        "** enumerate --> adds an index to elements of a list\n",
        "\n",
        "---\n",
        "\n",
        "while\n",
        "* loop only while a condition is met\n",
        "* condition variable should me modified inside the while loop"
      ],
      "metadata": {
        "id": "L2WGvP8gWWC_"
      }
    },
    {
      "cell_type": "code",
      "source": [
        "# Personal test of range\n",
        "for i in range(10,0,-1):\n",
        "  print(i)"
      ],
      "metadata": {
        "colab": {
          "base_uri": "https://localhost:8080/"
        },
        "id": "sNXz7cTnBg77",
        "outputId": "ae87ffcc-e050-43ff-e96e-0564126e5947"
      },
      "execution_count": null,
      "outputs": [
        {
          "output_type": "stream",
          "name": "stdout",
          "text": [
            "10\n",
            "9\n",
            "8\n",
            "7\n",
            "6\n",
            "5\n",
            "4\n",
            "3\n",
            "2\n",
            "1\n"
          ]
        }
      ]
    },
    {
      "cell_type": "code",
      "source": [
        "# Question 1: What is the output of the following lines of code:\n",
        "\n",
        "A=[3,4,5]\n",
        "\n",
        "for a in A:\n",
        "\n",
        "  print(a)"
      ],
      "metadata": {
        "colab": {
          "base_uri": "https://localhost:8080/"
        },
        "id": "zYJ3BxlqVtrn",
        "outputId": "d6bd08a0-c3d2-4996-8478-82b1fdc325ce"
      },
      "execution_count": null,
      "outputs": [
        {
          "output_type": "stream",
          "name": "stdout",
          "text": [
            "3\n",
            "4\n",
            "5\n"
          ]
        }
      ]
    },
    {
      "cell_type": "code",
      "source": [
        "# Question 2: What is the output of the following lines of code:\n",
        "\n",
        "x=3\n",
        "\n",
        "y=1\n",
        "\n",
        "while(y!=x):\n",
        "\n",
        "  print(y)\n",
        "\n",
        "  y=y+1"
      ],
      "metadata": {
        "colab": {
          "base_uri": "https://localhost:8080/"
        },
        "id": "UChdAR-kWYMw",
        "outputId": "c4de0604-f591-4691-989d-0ad2c79251be"
      },
      "execution_count": null,
      "outputs": [
        {
          "output_type": "stream",
          "name": "stdout",
          "text": [
            "1\n",
            "2\n"
          ]
        }
      ]
    },
    {
      "cell_type": "markdown",
      "source": [
        "## Functions"
      ],
      "metadata": {
        "id": "o9eClioEXNUg"
      }
    },
    {
      "cell_type": "markdown",
      "source": [
        "Piece of code that can be called many times\n",
        "\n",
        "Built-in funcitons:\n",
        "* len --> # of elements of an object (string, list, typle, set)\n",
        "* sort --> sorted(list) --> CREATES a NEW list\n",
        "* sorted --> list.sort() MODIFIES existing list\n",
        "\n",
        "\n",
        "---\n",
        "\n",
        "How to create our own function:\n",
        "\n",
        "def func_name(attribute):\n",
        "  \n",
        "  \"\"\"\n",
        "  documentation\n",
        "  \"\"\"\n",
        "\n",
        "  \\<actions>\n",
        "\n",
        "  return output\n",
        "\n",
        "---\n",
        "\n",
        "Multiple parameters:\n",
        "\n",
        "def func(parameter1, parameter2):\n",
        "  return out1, out 2\n",
        "\n",
        "---\n",
        "\n",
        "Useless function:\n",
        "\n",
        "def func():\n",
        "  \n",
        "  pass\n",
        "\n",
        "---\n",
        "\n",
        "Collecting arguments: *arg\n",
        "* allows a VARIABLE # of elements\n",
        "\n",
        "---\n",
        "Scope of a variable\n",
        "It is the part of the code WHERE VARIABLE is ACESSIBLE\n",
        "* GLOBAL --> variable accessible everywhere (defined OUTSIDE EVERYTHING)\n",
        "* LOCAL --> INSIDE a function (they die when function finishes)\n",
        "* Variables inside the global scope can have the same name as variables in the local scope with no conflict.\n",
        "* \"If a variable is not defined within a function, Python will check the global scope.\"\n",
        "* global var --> allows you to CREATE/MODIFY GLOBAL variables INSIDE a function\n",
        "\n",
        "\n"
      ],
      "metadata": {
        "id": "rZtIilMMXPIl"
      }
    },
    {
      "cell_type": "code",
      "source": [
        "# Test of the notes\n",
        "def add(x):\n",
        "  y = x+1\n",
        "  return y\n",
        "\n",
        "x = 1\n",
        "y = add(x)\n",
        "\n",
        "\n",
        "print(x,y)"
      ],
      "metadata": {
        "colab": {
          "base_uri": "https://localhost:8080/"
        },
        "id": "zwrN5xZBhf7M",
        "outputId": "aa47e253-114d-437a-800d-813310757f8a"
      },
      "execution_count": null,
      "outputs": [
        {
          "output_type": "stream",
          "name": "stdout",
          "text": [
            "1 2\n"
          ]
        }
      ]
    },
    {
      "cell_type": "code",
      "source": [
        "# Test of the notes\n",
        "def add(ñ):\n",
        "  global x\n",
        "  x = 3\n",
        "  y = x+ñ\n",
        "  return y\n",
        "\n",
        "x = 1\n",
        "y = add(x)\n",
        "\n",
        "\n",
        "print(x,y)"
      ],
      "metadata": {
        "colab": {
          "base_uri": "https://localhost:8080/"
        },
        "id": "-cL9Wllre4hY",
        "outputId": "84131158-4cf3-403c-a5a3-7766f7ac1386"
      },
      "execution_count": null,
      "outputs": [
        {
          "output_type": "stream",
          "name": "stdout",
          "text": [
            "3 4\n"
          ]
        }
      ]
    },
    {
      "cell_type": "code",
      "source": [
        "# Questin 1: What is the value of c after the following block of code is run ?\n",
        "\n",
        "a=1\n",
        "\n",
        "def add(b):\n",
        "\n",
        "  return a+b\n",
        "\n",
        "c=add(10)\n",
        "c"
      ],
      "metadata": {
        "colab": {
          "base_uri": "https://localhost:8080/"
        },
        "id": "vwX8ohYKssd8",
        "outputId": "03484a56-6ab4-4be7-b29c-8429d475b0a9"
      },
      "execution_count": null,
      "outputs": [
        {
          "output_type": "execute_result",
          "data": {
            "text/plain": [
              "11"
            ]
          },
          "metadata": {},
          "execution_count": 32
        }
      ]
    },
    {
      "cell_type": "code",
      "source": [
        "# Question 2: What is the value of c after the following block of code is run with proper numerical input?\n",
        "\n",
        "def f(*x):\n",
        "\n",
        " return sum(x)\n",
        "\n",
        "# Return the total of a variable amount of parameters."
      ],
      "metadata": {
        "id": "96QJW_ogsvDr"
      },
      "execution_count": null,
      "outputs": []
    },
    {
      "cell_type": "markdown",
      "source": [
        "## Object and Classes"
      ],
      "metadata": {
        "id": "5v-ZO2pXDZJd"
      }
    },
    {
      "cell_type": "markdown",
      "source": [
        "Python has many data types:\n",
        "* int\n",
        "* float\n",
        "* string\n",
        "* list\n",
        "* dictionary\n",
        "* bool\n",
        "\n",
        "== object, whi has:\n",
        "* type\n",
        "* blueprint (internal data representation)\n",
        "* methods (procedures)\n",
        "\n",
        "An OBJECT is an INSTANCE of a TYPE\n",
        "\n",
        "type() --> tells you object type\n",
        "\n",
        "---\n",
        "\n",
        "Method == FUNCTION that every instance hav in coomon\n",
        "it is HOW yo interact with data\n",
        "\n",
        "\n",
        "---\n",
        "Defining classes\n",
        "* class class_name(parent_class): # class definition\n",
        "* Attributes:\n",
        "\n",
        "  def \\__init__(self,radius,color): #attributes used to ninitialize the instance of the class\n",
        "\n",
        "    >self.radius = radius;\n",
        "    \n",
        "    >self.color = color;\n",
        "\n",
        "* \\__init__ == constructur == special function that TELLS Python you are CREATINGa NEW CLASS.\n",
        "* self == referst to the newly created INSTANCE of the CLASS == box containing all ATTRIBUTES of the object\n",
        "* changing attribute object.attribute_name = value\n",
        "\n",
        "---\n",
        "Methods\n",
        "\n",
        "Functions that interact with attributes (changing/using them)\n",
        "\n",
        "def add_radius(self,r):\n",
        "  > self.radius = self.radius + r\n",
        "\n",
        "  > return (slef.radius)\n",
        "\n",
        "  ---\n",
        "\n",
        "  dir() --> name methods & attributes of a class\n"
      ],
      "metadata": {
        "id": "ThEciOf1Db28"
      }
    },
    {
      "cell_type": "code",
      "source": [
        "# Question 1: Using the Class Car in the lab, create a Car object with the following attributes:\n",
        "\n",
        "make=\"Honda\"\n",
        "\n",
        "model=\"Accord\"\n",
        "\n",
        "color=\"blue\"\n",
        "\n",
        "# Unable to open this particular lab"
      ],
      "metadata": {
        "id": "5q8i6cuJs5Tb"
      },
      "execution_count": null,
      "outputs": []
    },
    {
      "cell_type": "code",
      "source": [
        "# Question 2: From the lab, how would you change the data attribute owner_number ?\n",
        "\n",
        "# Unable to open this particular lab"
      ],
      "metadata": {
        "id": "81jffs61NGH9"
      },
      "execution_count": null,
      "outputs": []
    },
    {
      "cell_type": "markdown",
      "source": [
        "###Lab: Class creation\n"
      ],
      "metadata": {
        "id": "l2A7_TWBM40K"
      }
    },
    {
      "cell_type": "markdown",
      "source": [
        "You have been recruited by your friend, a linguistics enthusiast, to create a utility tool that can perform analysis on a given piece of text. Complete the class\n",
        "'analysedText' with the following methods -\n",
        "\n",
        "<ul>\n",
        "    <li> Constructor (__init__) - This method should take the argument <code>text</code>, make it lower case, and remove all punctuation.  Assume only the following punctuation is used: period (.), exclamation mark (!), comma (,) and question mark (?). Assign this newly formatted text to a new attribute called <code>fmtText</code>.\n",
        "    <li> freqAll - This method should create and <strong>return</strong> dictionary of all unique words in the text, along with the number of times they occur in the text. Each key in the dictionary should be the unique word appearing in the text and the associated value should be the number of times it occurs in the text. Create this dictionary from the <code>fmtText</code> attribute.\n",
        "    <li> freqOf - This method should take a word as an argument and <strong>return</strong> the number of occurrences of that word in <code>fmtText</code>.\n",
        "</ul>\n",
        " The skeleton code has been given to you. Docstrings can be ignored for the purpose of the exercise. <br>\n",
        " <i> Hint: Some useful functions are <code>replace()</code>, <code>lower()</code>, <code>split()</code>, <code>count()</code> </i><br>\n"
      ],
      "metadata": {
        "id": "8dEPaz3lM-3S"
      }
    },
    {
      "cell_type": "code",
      "source": [
        "# Function I created\n",
        "class analysedText(object):\n",
        "    \n",
        "    def __init__ (self, text):\n",
        "        \n",
        "        self.fmtText = text.lower().replace('.','').replace(',','').replace('?','').replace('!','')\n",
        "\n",
        "        # TODO: Remove the punctuation from <text> and make it lower case.\n",
        "        \n",
        "\n",
        "        # TODO: Assign the formatted text to a new attribute called \"fmtText\"\n",
        "        \n",
        "        pass \n",
        "    \n",
        "    def freqAll(self):    \n",
        "\n",
        "        # TODO: Split the text into a list of words\n",
        "        list = self.fmtText.split(' ')\n",
        "\n",
        "        # TODO: Create a dictionary with the unique words in the text as keys\n",
        "        unique = set(list)\n",
        "        \n",
        "        # and the number of times they occur in the text as values\n",
        "        dict = {x:list.count(x) for x in unique}\n",
        "        \n",
        "        return dict # return the created dictionary\n",
        "    \n",
        "    def freqOf(self, word):\n",
        "        dict = self.freqAll()\n",
        "        # TODO: return the number of occurrences of <word> in <fmtText>\n",
        "        if word in dict:\n",
        "            y = dict[word]\n",
        "        else:\n",
        "            y = 0\n",
        "            \n",
        "        return y\n",
        "    "
      ],
      "metadata": {
        "id": "xj2box2bM7Hk"
      },
      "execution_count": null,
      "outputs": []
    },
    {
      "cell_type": "markdown",
      "source": [
        "### Lab: Exception handling\n"
      ],
      "metadata": {
        "id": "xHXJcjQCOWN7"
      }
    },
    {
      "cell_type": "markdown",
      "source": [
        "Examples:\n",
        "* ZeroDivisionError occurs when you try to divide by zero.\n",
        "* NameError -- in this case, it means that you tried to use the variable a when it was not defined.\n",
        "Try-except:\n",
        "* \n",
        "Specific try-except:\n",
        "* allows you to catch certain exceptions and also execute certain code depending on the exception.\n",
        "* hamdling 2 type of errors the same way: except (ZeroDivisionError, NameError):\n",
        "* you can also have an empty except at the end to catch an unexpected exception:\n",
        "* else allows one to check if there was no exception when executing the try block. This is useful when we want to execute something only if there were no errors.\n",
        "* finally allows us to always execute something even if there is an exception or not. This is usually used to signify the end of the try except."
      ],
      "metadata": {
        "id": "2DxZgPEVOcaY"
      }
    },
    {
      "cell_type": "markdown",
      "source": [
        "## Review Questions"
      ],
      "metadata": {
        "id": "UUxVMIq-PRlW"
      }
    },
    {
      "cell_type": "code",
      "source": [
        "# Question 1: What is the output of the following lines of code:\n",
        "\n",
        "x=1\n",
        "\n",
        "if(x!=1):\n",
        "\n",
        "  print('Hello')\n",
        "\n",
        "else:\n",
        "\n",
        "  print('Hi')\n",
        "\n",
        "print('Mike')"
      ],
      "metadata": {
        "colab": {
          "base_uri": "https://localhost:8080/"
        },
        "id": "pjmFuPtXPUwk",
        "outputId": "dcd54287-53f4-432d-c543-618e743f574e"
      },
      "execution_count": null,
      "outputs": [
        {
          "output_type": "stream",
          "name": "stdout",
          "text": [
            "Hi\n",
            "Mike\n"
          ]
        }
      ]
    },
    {
      "cell_type": "code",
      "source": [
        "# Question 2: What is the output of the following few lines of code?\n",
        "\n",
        "A = ['1','2','3']\n",
        "\n",
        "for a in A:\n",
        "\n",
        "  print(2*a)"
      ],
      "metadata": {
        "colab": {
          "base_uri": "https://localhost:8080/"
        },
        "id": "usmWYe5SPlX3",
        "outputId": "8abb538b-209e-448b-c897-718e031530fe"
      },
      "execution_count": null,
      "outputs": [
        {
          "output_type": "stream",
          "name": "stdout",
          "text": [
            "11\n",
            "22\n",
            "33\n"
          ]
        }
      ]
    },
    {
      "cell_type": "code",
      "source": [
        "# Question 3: Consider the function Delta, when will the function return a value of 1\n",
        "\n",
        "def Delta(x):\n",
        "\n",
        "  if x==0:\n",
        "\n",
        "    y=1;\n",
        "\n",
        "  else:\n",
        "\n",
        "    y=0;\n",
        "\n",
        "  return(y)\n",
        "\n",
        "print(Delta(0))"
      ],
      "metadata": {
        "colab": {
          "base_uri": "https://localhost:8080/"
        },
        "id": "KU8Ko2H7PtYJ",
        "outputId": "a04ef4c7-e15b-4210-affb-860af22bd89d"
      },
      "execution_count": null,
      "outputs": [
        {
          "output_type": "stream",
          "name": "stdout",
          "text": [
            "1\n"
          ]
        }
      ]
    },
    {
      "cell_type": "code",
      "source": [
        "# Question 4: What is the correct way to sort the list 'B' using a method? The result should not return a new list, just change the list 'B'.\n",
        "\n",
        "#B.sort()"
      ],
      "metadata": {
        "id": "ejq-TQewQG_G"
      },
      "execution_count": null,
      "outputs": []
    },
    {
      "cell_type": "code",
      "source": [
        "# Question 5: What are the keys of the following dictionary: {'a':1,'b':2}?\n",
        "#a,b"
      ],
      "metadata": {
        "id": "tWoqous7QLgC"
      },
      "execution_count": null,
      "outputs": []
    },
    {
      "cell_type": "markdown",
      "source": [
        "# Módulo 4"
      ],
      "metadata": {
        "id": "qycHQsPxs2X5"
      }
    },
    {
      "cell_type": "markdown",
      "source": [
        "## Reading Files with Open"
      ],
      "metadata": {
        "id": "-nuthqvftOMf"
      }
    },
    {
      "cell_type": "markdown",
      "source": [
        "Objective: write & read txt file\n",
        "* open function: open(\"filepath/filename\",\"<\\<mode>>\")\n",
        "> * mode: r = reading, w = writing, a = apending, wb = web page\n",
        "*  Attrributes:\n",
        "\n",
        "  > .name --> get name of file\n",
        "\n",
        "  > .mode --> get the mode of the file\n",
        "    > .closed\n",
        "\n",
        "* ALWAYS have to close the file at the END: <file>.close()\n",
        "\n",
        "* Alterative: with open(\"\\<filepath>/\\<filename>\",\"<\\<mode>>\") as \\<alias>:\n",
        "> It runs all inside tyhe indent after the with statement and close when finishes\n",
        "\n",
        "* .read() --> stores the content in a file\n",
        "\n",
        "* redlines(n) --> output every lien as an element of a list (IT IS AN ITERATOR)\n",
        "> Args: n = number of characters to read AS a line. IT WILL retreive the folowing set of characters after the last readlines call\n",
        "\n"
      ],
      "metadata": {
        "id": "6WAQ7jZMtPDm"
      }
    },
    {
      "cell_type": "markdown",
      "source": [
        "## Writing Files with Open"
      ],
      "metadata": {
        "id": "ebouTwqnxD4L"
      }
    },
    {
      "cell_type": "markdown",
      "source": [
        "* Create a file: open(\"filepath/filename\",\"w\") if you AD data with this YOU WILL DELETE TEH ORIGINAL FILE\n",
        "* write a line in file file_object.write(\"New line content\")\n",
        "* open(\"filepath/filename\",\"a\") WILL NOT create a NEW file, just add lines\n",
        "* Copy a file int another:\n",
        "\n",
        "    with open(\"Example1.txt\",\"r\") as readfile:\n",
        "        with open (Example3.txt\",\"w\") as writefile:\n",
        "          for line in readfile:\n",
        "            writefile.write(line)\n",
        "\n",
        "---\n",
        "Additional modes:\n",
        "+ r+ : Reading and writing. Cannot truncate the file.\n",
        "+ w+ : Writing and reading. Truncates the file.\n",
        "+ a+ : Appending and Reading. Creates a new file, if none exists.\n",
        "\n",
        "---\n",
        "* read() and write() work at a certain location of the file\n",
        "* openning with w is like: open, put cursor at the beginning , delete all\n",
        "* Methods to tell where is the cursor:\n",
        "  * tell() return current position in bytes\n",
        "  * seek(offset,from)  CHANGES the current position offset bytes from reference (current position, 0,1,2,3,-1...)\n",
        "* To work with a file on existing data, use r+ and a+.\n",
        "  * r+ has .truncate() to DELETE everything AFTER the cursor position"
      ],
      "metadata": {
        "id": "GiYwm5XixFCG"
      }
    },
    {
      "cell_type": "markdown",
      "source": [
        "Excercise:\n",
        "\n",
        "Your local university's Raptors fan club maintains a register of its active members on a .txt document. Every month they update the file by removing the members who are not active. You have been tasked with automating this with your Python skills.\n",
        "Given the file currentMem, Remove each member with a 'no' in their Active column. Keep track of each of the removed members and append them to the exMem file. Make sure that the format of the original files in preserved. (Hint: Do this by reading/writing whole lines and ensuring the header remains )\n",
        "Run the code block below prior to starting the exercise. The skeleton code has been provided for you. Edit only the cleanFiles function.\n"
      ],
      "metadata": {
        "id": "-dy-ipjL2R7F"
      }
    },
    {
      "cell_type": "code",
      "source": [
        "# Excercise:\n",
        "\"\"\"\n",
        "Your local university's Raptors fan club maintains a register of its active members on a .txt document. Every month they update the file by removing the members who are not active. You have been tasked with automating this with your Python skills.\n",
        "Given the file currentMem, Remove each member with a 'no' in their Active column. Keep track of each of the removed members and append them to the exMem file. Make sure that the format of the original files in preserved. (Hint: Do this by reading/writing whole lines and ensuring the header remains )\n",
        "Run the code block below prior to starting the exercise. The skeleton code has been provided for you. Edit only the cleanFiles function.\n",
        "\"\"\""
      ],
      "metadata": {
        "id": "c5GsrD9bs4Yn"
      },
      "execution_count": null,
      "outputs": []
    },
    {
      "cell_type": "code",
      "source": [
        "#Run this prior to starting the exercise\n",
        "from random import randint as rnd\n",
        "\n",
        "memReg = 'members.txt'\n",
        "exReg = 'inactive.txt'\n",
        "fee =('yes','no')\n",
        "\n",
        "def genFiles(current,old):\n",
        "    with open(current,'w+') as writefile: \n",
        "        writefile.write('Membership No  Date Joined  Active  \\n')\n",
        "        data = \"{:^13}  {:<11}  {:<6}\\n\"\n",
        "\n",
        "        for rowno in range(20):\n",
        "            date = str(rnd(2015,2020))+ '-' + str(rnd(1,12))+'-'+str(rnd(1,25))\n",
        "            writefile.write(data.format(rnd(10000,99999),date,fee[rnd(0,1)]))\n",
        "\n",
        "\n",
        "    with open(old,'w+') as writefile: \n",
        "        writefile.write('Membership No  Date Joined  Active  \\n')\n",
        "        data = \"{:^13}  {:<11}  {:<6}\\n\"\n",
        "        for rowno in range(3):\n",
        "            date = str(rnd(2015,2020))+ '-' + str(rnd(1,12))+'-'+str(rnd(1,25))\n",
        "            writefile.write(data.format(rnd(10000,99999),date,fee[1]))\n",
        "\n",
        "\n",
        "genFiles(memReg,exReg)"
      ],
      "metadata": {
        "id": "N1GyjpOftNBw"
      },
      "execution_count": null,
      "outputs": []
    },
    {
      "cell_type": "markdown",
      "source": [
        "Now that you've run the prerequisite code cell above, which prepared the files for this exercise, you are ready to move on to the implementation.\n",
        "\n",
        "Exercise: Implement the cleanFiles function in the code cell below."
      ],
      "metadata": {
        "id": "EfVv6nH62stE"
      }
    },
    {
      "cell_type": "code",
      "source": [
        "'''\n",
        "The two arguments for this function are the files:\n",
        "    - currentMem: File containing list of current members\n",
        "    - exMem: File containing list of old members\n",
        "    \n",
        "    This function should remove all rows from currentMem containing 'no' \n",
        "    in the 'Active' column and appends them to exMem.\n",
        "    '''\n",
        "def cleanFiles(currentMem, exMem):\n",
        "    \"\"\"\n",
        "    # TODO: Open the currentMem file as in r+ mode\n",
        "    with open(currentMem,'r+') as readfile:\n",
        "        #TODO: Open the exMem file in a+ mode\n",
        "          with open(exMem, 'a+') as writefile:\n",
        "\n",
        "        #TODO: Read each member in the currentMem (1 member per row) file into a list.\n",
        "            count = 0\n",
        "            for line in readfile.readlines():\n",
        "              l = line.split()\n",
        "              if \"no\" in l[2]:\n",
        "                writefile.write(line)\n",
        "              else:\n",
        "                count += 1\n",
        "                readfile.write(line)\n",
        "\n",
        "            \n",
        "          readfile.seek(0)\n",
        "          readfile.writelines(readfile.readlines()[len(readfile.readlines())-count:])\n",
        "          readfile.truncate() \n",
        "            \n",
        "        # Hint: Recall that the first line in the file is the header.\n",
        "\n",
        "        #TODO: iterate through the members and create a new list of the innactive members\n",
        "\n",
        "        # Go to the beginning of the currentMem file\n",
        "        # TODO: Iterate through the members list. \n",
        "        # If a member is inactive, add them to exMem, otherwise write them into currentMem\n",
        "        \"\"\"\n",
        "    with open(currentMem,'r+') as writeFile: \n",
        "      with open(exMem,'a+') as appendFile:\n",
        "          #get the data\n",
        "          writeFile.seek(0)\n",
        "          members = writeFile.readlines()\n",
        "          #remove header\n",
        "          header = members[0]\n",
        "          members.pop(0)\n",
        "              \n",
        "          inactive = [member for member in members if ('no' in member)]\n",
        "          '''\n",
        "          The above is the same as \n",
        "\n",
        "          for member in members:\n",
        "          if 'no' in member:\n",
        "              inactive.append(member)\n",
        "          '''\n",
        "          #go to the beginning of the write file\n",
        "          writeFile.seek(0) \n",
        "          writeFile.write(header)\n",
        "          for member in members:\n",
        "              if (member in inactive):\n",
        "                  appendFile.write(member)\n",
        "              else:\n",
        "                  writeFile.write(member)      \n",
        "          writeFile.truncate()\n",
        "        \n",
        "    \n",
        "    #pass # Remove this line when done implementation\n",
        "\n",
        "\n",
        "# The code below is to help you view the files.\n",
        "# Do not modify this code for this exercise.\n",
        "memReg = 'members.txt'\n",
        "exReg = 'inactive.txt'\n",
        "cleanFiles(memReg,exReg)\n",
        "\n",
        "\n",
        "headers = \"Membership No  Date Joined  Active  \\n\"\n",
        "with open(memReg,'r') as readFile:\n",
        "    print(\"Active Members: \\n\\n\")\n",
        "    print(readFile.read())\n",
        "    \n",
        "with open(exReg,'r') as readFile:\n",
        "    print(\"Inactive Members: \\n\\n\")\n",
        "    print(readFile.read())\n",
        "                "
      ],
      "metadata": {
        "colab": {
          "base_uri": "https://localhost:8080/"
        },
        "id": "E2MWecUm2lAB",
        "outputId": "a5851764-9dca-4b87-a359-514e2ad82394"
      },
      "execution_count": null,
      "outputs": [
        {
          "output_type": "stream",
          "name": "stdout",
          "text": [
            "Active Members: \n",
            "\n",
            "\n",
            "Membership No  Date Joined  Active  \n",
            "    55093      2020-4-6     yes   \n",
            "    37844      2015-12-19   yes   \n",
            "    86921      2020-9-20    yes   \n",
            "    11296      2015-1-25    yes   \n",
            "    16578      2015-3-20    yes   \n",
            "    34290      2016-1-5     yes   \n",
            "    70457      2015-7-25    yes   \n",
            "\n",
            "Inactive Members: \n",
            "\n",
            "\n",
            "Membership No  Date Joined  Active  \n",
            "    88074      2017-3-7     no    \n",
            "    75732      2018-2-13    no    \n",
            "    48138      2020-11-7    no    \n",
            "    70628      2016-5-22    no    \n",
            "    85315      2019-3-4     no    \n",
            "    15487      2016-7-18    no    \n",
            "    19740      2019-11-8    no    \n",
            "    97632      2017-2-8     no    \n",
            "    16525      2018-7-6     no    \n",
            "    80927      2016-7-5     no    \n",
            "    17675      2019-1-12    no    \n",
            "    56200      2017-6-17    no    \n",
            "    46806      2020-11-18   no    \n",
            "    71152      2017-5-14    no    \n",
            "    65623      2018-2-6     no    \n",
            "    28035      2015-3-13    no    \n",
            "\n"
          ]
        }
      ]
    },
    {
      "cell_type": "markdown",
      "source": [
        "The code cell below is to verify your solution. Please do not modify the code and run it to test your implementation of cleanFiles."
      ],
      "metadata": {
        "id": "OBHMvO2I4nbe"
      }
    },
    {
      "cell_type": "code",
      "source": [
        "def testMsg(passed):\n",
        "    if passed:\n",
        "       return 'Test Passed'\n",
        "    else :\n",
        "       return 'Test Failed'\n",
        "\n",
        "testWrite = \"testWrite.txt\"\n",
        "testAppend = \"testAppend.txt\" \n",
        "passed = True\n",
        "\n",
        "genFiles(testWrite,testAppend)\n",
        "\n",
        "with open(testWrite,'r') as file:\n",
        "    ogWrite = file.readlines()\n",
        "\n",
        "with open(testAppend,'r') as file:\n",
        "    ogAppend = file.readlines()\n",
        "\n",
        "try:\n",
        "    cleanFiles(testWrite,testAppend)\n",
        "except:\n",
        "    print('Error')\n",
        "\n",
        "with open(testWrite,'r') as file:\n",
        "    clWrite = file.readlines()\n",
        "\n",
        "with open(testAppend,'r') as file:\n",
        "    clAppend = file.readlines()\n",
        "        \n",
        "# checking if total no of rows is same, including headers\n",
        "\n",
        "if (len(ogWrite) + len(ogAppend) != len(clWrite) + len(clAppend)):\n",
        "    print(\"The number of rows do not add up. Make sure your final files have the same header and format.\")\n",
        "    passed = False\n",
        "    \n",
        "for line in clWrite:\n",
        "    if  'no' in line:\n",
        "        passed = False\n",
        "        print(\"Inactive members in file\")\n",
        "        break\n",
        "    else:\n",
        "        if line not in ogWrite:\n",
        "            print(\"Data in file does not match original file\")\n",
        "            passed = False\n",
        "print (\"{}\".format(testMsg(passed)))\n",
        "    \n"
      ],
      "metadata": {
        "colab": {
          "base_uri": "https://localhost:8080/"
        },
        "id": "gLBiHudT4leo",
        "outputId": "20121f79-b42e-470f-907e-d2f62fabdeaa"
      },
      "execution_count": null,
      "outputs": [
        {
          "output_type": "stream",
          "name": "stdout",
          "text": [
            "Test Passed\n"
          ]
        }
      ]
    },
    {
      "cell_type": "markdown",
      "source": [
        "## Loading Data with Pandas"
      ],
      "metadata": {
        "id": "Upr0oJ-JKtAR"
      }
    },
    {
      "cell_type": "markdown",
      "source": [
        "* import pandas\n",
        "* pandas.read_csv(csv_path)\n",
        "* alias import pandas as pd --> pd.read_csv(csv_path)\n",
        "*pd.read_csv(excel_path)\n",
        "* pd.read_*** GENERATED a DataFrame= table with rows and columns\n",
        "* Create a DataFrame form a Dictionary str:[]: pd.DataFrame({'col1':[1,2,3,4,...],'col2':[#,#,#,#,...]})\n",
        "  * str = headers, [] = rows values\n",
        "* select a DataFRame column: df[['col1']]\n",
        "* select multiple columns from DataFrame: df[['col1','col2',...]]\n",
        "* ix --> SUBSET a DataFrame with NUMBERS & NAMES\n",
        "  *df.ix[0,0], df.ix[0,'Artist']\n",
        "  *SLICE: df.ix[:2,'Artist':'Released']"
      ],
      "metadata": {
        "id": "wRSoQqNWKvlD"
      }
    },
    {
      "cell_type": "code",
      "source": [
        "# Question 1: Consider the dataframe df. How would you find the element in the second row and first column?\n",
        "#df.ix[1,0] or df.iloc[1,0]"
      ],
      "metadata": {
        "id": "HFLTLeX5KjfT"
      },
      "execution_count": null,
      "outputs": []
    },
    {
      "cell_type": "code",
      "source": [
        "# Question 2: Will the following code run?\n",
        "\n",
        "import pandas as banana\n",
        "\n",
        "df=banana.DataFrame({'a':[11,21,31],'b':[21,22,23]})\n",
        "\n",
        "df.head()"
      ],
      "metadata": {
        "colab": {
          "base_uri": "https://localhost:8080/",
          "height": 143
        },
        "id": "ii1GFwM8Mysl",
        "outputId": "b228fff4-6dae-483c-a391-28c0efb6a4d7"
      },
      "execution_count": null,
      "outputs": [
        {
          "output_type": "execute_result",
          "data": {
            "text/plain": [
              "    a   b\n",
              "0  11  21\n",
              "1  21  22\n",
              "2  31  23"
            ],
            "text/html": [
              "\n",
              "  <div id=\"df-1ddb0293-08b5-42d7-bec8-6a4a13f8f48d\">\n",
              "    <div class=\"colab-df-container\">\n",
              "      <div>\n",
              "<style scoped>\n",
              "    .dataframe tbody tr th:only-of-type {\n",
              "        vertical-align: middle;\n",
              "    }\n",
              "\n",
              "    .dataframe tbody tr th {\n",
              "        vertical-align: top;\n",
              "    }\n",
              "\n",
              "    .dataframe thead th {\n",
              "        text-align: right;\n",
              "    }\n",
              "</style>\n",
              "<table border=\"1\" class=\"dataframe\">\n",
              "  <thead>\n",
              "    <tr style=\"text-align: right;\">\n",
              "      <th></th>\n",
              "      <th>a</th>\n",
              "      <th>b</th>\n",
              "    </tr>\n",
              "  </thead>\n",
              "  <tbody>\n",
              "    <tr>\n",
              "      <th>0</th>\n",
              "      <td>11</td>\n",
              "      <td>21</td>\n",
              "    </tr>\n",
              "    <tr>\n",
              "      <th>1</th>\n",
              "      <td>21</td>\n",
              "      <td>22</td>\n",
              "    </tr>\n",
              "    <tr>\n",
              "      <th>2</th>\n",
              "      <td>31</td>\n",
              "      <td>23</td>\n",
              "    </tr>\n",
              "  </tbody>\n",
              "</table>\n",
              "</div>\n",
              "      <button class=\"colab-df-convert\" onclick=\"convertToInteractive('df-1ddb0293-08b5-42d7-bec8-6a4a13f8f48d')\"\n",
              "              title=\"Convert this dataframe to an interactive table.\"\n",
              "              style=\"display:none;\">\n",
              "        \n",
              "  <svg xmlns=\"http://www.w3.org/2000/svg\" height=\"24px\"viewBox=\"0 0 24 24\"\n",
              "       width=\"24px\">\n",
              "    <path d=\"M0 0h24v24H0V0z\" fill=\"none\"/>\n",
              "    <path d=\"M18.56 5.44l.94 2.06.94-2.06 2.06-.94-2.06-.94-.94-2.06-.94 2.06-2.06.94zm-11 1L8.5 8.5l.94-2.06 2.06-.94-2.06-.94L8.5 2.5l-.94 2.06-2.06.94zm10 10l.94 2.06.94-2.06 2.06-.94-2.06-.94-.94-2.06-.94 2.06-2.06.94z\"/><path d=\"M17.41 7.96l-1.37-1.37c-.4-.4-.92-.59-1.43-.59-.52 0-1.04.2-1.43.59L10.3 9.45l-7.72 7.72c-.78.78-.78 2.05 0 2.83L4 21.41c.39.39.9.59 1.41.59.51 0 1.02-.2 1.41-.59l7.78-7.78 2.81-2.81c.8-.78.8-2.07 0-2.86zM5.41 20L4 18.59l7.72-7.72 1.47 1.35L5.41 20z\"/>\n",
              "  </svg>\n",
              "      </button>\n",
              "      \n",
              "  <style>\n",
              "    .colab-df-container {\n",
              "      display:flex;\n",
              "      flex-wrap:wrap;\n",
              "      gap: 12px;\n",
              "    }\n",
              "\n",
              "    .colab-df-convert {\n",
              "      background-color: #E8F0FE;\n",
              "      border: none;\n",
              "      border-radius: 50%;\n",
              "      cursor: pointer;\n",
              "      display: none;\n",
              "      fill: #1967D2;\n",
              "      height: 32px;\n",
              "      padding: 0 0 0 0;\n",
              "      width: 32px;\n",
              "    }\n",
              "\n",
              "    .colab-df-convert:hover {\n",
              "      background-color: #E2EBFA;\n",
              "      box-shadow: 0px 1px 2px rgba(60, 64, 67, 0.3), 0px 1px 3px 1px rgba(60, 64, 67, 0.15);\n",
              "      fill: #174EA6;\n",
              "    }\n",
              "\n",
              "    [theme=dark] .colab-df-convert {\n",
              "      background-color: #3B4455;\n",
              "      fill: #D2E3FC;\n",
              "    }\n",
              "\n",
              "    [theme=dark] .colab-df-convert:hover {\n",
              "      background-color: #434B5C;\n",
              "      box-shadow: 0px 1px 3px 1px rgba(0, 0, 0, 0.15);\n",
              "      filter: drop-shadow(0px 1px 2px rgba(0, 0, 0, 0.3));\n",
              "      fill: #FFFFFF;\n",
              "    }\n",
              "  </style>\n",
              "\n",
              "      <script>\n",
              "        const buttonEl =\n",
              "          document.querySelector('#df-1ddb0293-08b5-42d7-bec8-6a4a13f8f48d button.colab-df-convert');\n",
              "        buttonEl.style.display =\n",
              "          google.colab.kernel.accessAllowed ? 'block' : 'none';\n",
              "\n",
              "        async function convertToInteractive(key) {\n",
              "          const element = document.querySelector('#df-1ddb0293-08b5-42d7-bec8-6a4a13f8f48d');\n",
              "          const dataTable =\n",
              "            await google.colab.kernel.invokeFunction('convertToInteractive',\n",
              "                                                     [key], {});\n",
              "          if (!dataTable) return;\n",
              "\n",
              "          const docLinkHtml = 'Like what you see? Visit the ' +\n",
              "            '<a target=\"_blank\" href=https://colab.research.google.com/notebooks/data_table.ipynb>data table notebook</a>'\n",
              "            + ' to learn more about interactive tables.';\n",
              "          element.innerHTML = '';\n",
              "          dataTable['output_type'] = 'display_data';\n",
              "          await google.colab.output.renderOutput(dataTable, element);\n",
              "          const docLink = document.createElement('div');\n",
              "          docLink.innerHTML = docLinkHtml;\n",
              "          element.appendChild(docLink);\n",
              "        }\n",
              "      </script>\n",
              "    </div>\n",
              "  </div>\n",
              "  "
            ]
          },
          "metadata": {},
          "execution_count": 121
        }
      ]
    },
    {
      "cell_type": "markdown",
      "source": [
        "## Working with and Saving Data with Pandas"
      ],
      "metadata": {
        "id": "9fjy1JY-NAnb"
      }
    },
    {
      "cell_type": "markdown",
      "source": [
        "* unique --> get unique values of a column: df['col1'].unique()\n",
        "* filter: df[df bool condition] Example: df[df[col] > #]\n",
        "* df.to_csv(\"\\<csv_name>.csv\") "
      ],
      "metadata": {
        "id": "ZuGMHyZMNCDT"
      }
    },
    {
      "cell_type": "code",
      "source": [
        "# Question 1: Consider the dataframe: df=pd.DataFrame({'a':[1,2,1],'b':[1,1,1]})\n",
        "\n",
        "#What type does the following return: df['a']==1 ?\n",
        "import pandas as pd\n",
        "df=pd.DataFrame({'a':[1,2,1],'b':[1,1,1]})\n",
        "df['a']==1\n"
      ],
      "metadata": {
        "colab": {
          "base_uri": "https://localhost:8080/"
        },
        "id": "vk66_RT2M4J8",
        "outputId": "597d2410-4045-4e04-ac32-b5c7ac35217b"
      },
      "execution_count": null,
      "outputs": [
        {
          "output_type": "execute_result",
          "data": {
            "text/plain": [
              "0     True\n",
              "1    False\n",
              "2     True\n",
              "Name: a, dtype: bool"
            ]
          },
          "metadata": {},
          "execution_count": 124
        }
      ]
    },
    {
      "cell_type": "code",
      "source": [
        "# Question 2: What task does the following method perform: df.to_csv(\"file.csv\")?\n",
        "# R= Save a dataframe to a csv file."
      ],
      "metadata": {
        "id": "Jfi-UaSEN7zB"
      },
      "execution_count": null,
      "outputs": []
    },
    {
      "cell_type": "markdown",
      "source": [
        "## Review Questions"
      ],
      "metadata": {
        "id": "Jzo16qr3Og2c"
      }
    },
    {
      "cell_type": "code",
      "source": [
        "# Question 1: What do the following lines of code do?\n",
        "\"\"\"\n",
        "with open(\"Example1.txt\",\"r\") as file1:\n",
        "\n",
        "  FileContent=file1.readlines()\n",
        "\n",
        "  print(FileContent)\n",
        "\n",
        "\"\"\"\n",
        "# R= Read the file \"Example1.txt\"."
      ],
      "metadata": {
        "colab": {
          "base_uri": "https://localhost:8080/",
          "height": 36
        },
        "id": "8xgUksolO2FG",
        "outputId": "3d39e089-d371-4338-d6bc-b043b163d7f1"
      },
      "execution_count": null,
      "outputs": [
        {
          "output_type": "execute_result",
          "data": {
            "text/plain": [
              "'\\nwith open(\"Example1.txt\",\"r\") as file1:\\n\\n  FileContent=file1.readlines()\\n\\n  print(FileContent)\\n\\n'"
            ],
            "application/vnd.google.colaboratory.intrinsic+json": {
              "type": "string"
            }
          },
          "metadata": {},
          "execution_count": 127
        }
      ]
    },
    {
      "cell_type": "code",
      "source": [
        "# Question 2: What do the following lines of code do?\n",
        "\"\"\"\n",
        "with open(\"Example2.txt\",\"w\") as writefile:\n",
        "\n",
        "  writefile.write(\"This is line A\\n\")\n",
        "\n",
        "  writefile.write(\"This is line B\\n\")\n",
        "\"\"\"\n",
        "# R= Write to the file \"Example2.txt\"."
      ],
      "metadata": {
        "colab": {
          "base_uri": "https://localhost:8080/",
          "height": 36
        },
        "id": "e9cU-jOBO9cE",
        "outputId": "11e8bcff-226e-406d-fe72-70a8079e7dfa"
      },
      "execution_count": null,
      "outputs": [
        {
          "output_type": "execute_result",
          "data": {
            "text/plain": [
              "'\\nwith open(\"Example2.txt\",\"w\") as writefile:\\n\\n  writefile.write(\"This is line A\\n\")\\n\\n  writefile.write(\"This is line B\\n\")\\n'"
            ],
            "application/vnd.google.colaboratory.intrinsic+json": {
              "type": "string"
            }
          },
          "metadata": {},
          "execution_count": 128
        }
      ]
    },
    {
      "cell_type": "code",
      "source": [
        "# Question 3: What do the following lines of code do?\n",
        "\"\"\"\n",
        "with open(\"Example3.txt\",\"a\") as file1:\n",
        "\n",
        "  file1.write(\"This is line C\\n\")\n",
        "\"\"\"\n",
        "# R= Append the file \"Example3.txt\"."
      ],
      "metadata": {
        "colab": {
          "base_uri": "https://localhost:8080/",
          "height": 36
        },
        "id": "h8If1Y_WPFF9",
        "outputId": "2b3010d2-722e-494d-d764-a43c134aa31d"
      },
      "execution_count": null,
      "outputs": [
        {
          "output_type": "execute_result",
          "data": {
            "text/plain": [
              "'\\nwith open(\"Example3.txt\",\"a\") as file1:\\n\\n  file1.write(\"This is line C\\n\")\\n'"
            ],
            "application/vnd.google.colaboratory.intrinsic+json": {
              "type": "string"
            }
          },
          "metadata": {},
          "execution_count": 129
        }
      ]
    },
    {
      "cell_type": "code",
      "source": [
        "# Question 4: What is the result of applying the following method df.head() to the dataframe \"df\"?\n",
        "# R= Prints the first 5 rows of the dataframe."
      ],
      "metadata": {
        "id": "3PFrZlMaPMhF"
      },
      "execution_count": null,
      "outputs": []
    },
    {
      "cell_type": "markdown",
      "source": [
        "# Módulo 5"
      ],
      "metadata": {
        "id": "PDl6-0FNQQeF"
      }
    },
    {
      "cell_type": "markdown",
      "source": [
        "## Numpy 1D Arrays"
      ],
      "metadata": {
        "id": "I_dddCmnQWHg"
      }
    },
    {
      "cell_type": "markdown",
      "source": [
        "Numpy\n",
        "* for scientific computing\n",
        "* speed & memory\n",
        "* basis of pandas\n",
        "\n",
        "---\n",
        "* Is similar to a list but...\n",
        "  * same type of elements (NUMBERS)\n",
        "* import numpy as np\n",
        "* Create a numpy array form list: np.array([1,2,3,....])\n",
        "* type: numpy.ndarray\n",
        "* dtype --> gives the datatype of elements of array\n",
        "* Attributes:\n",
        "  * .size = # of elements\n",
        "  * .ndim = # dimensions / the rank\n",
        "  * .shape = tuple of size of each dimension\n",
        "\n",
        "---\n",
        "\n",
        "Indexing & Slicing\n",
        "* 1st element c[0]\n",
        "* c[1:4] (we don't count te last number)\n",
        "* MULTIPLE ASSIGNMENT: c[1:3] = 300, 400\n",
        "\n",
        "---\n",
        "\n",
        "Basic Operations\n",
        "* Faster and req less memory\n",
        "* Vector adition & Substraction u = [1,0], v = [0,1]\n",
        "  * In lists:\n",
        "\n",
        "    for n,m zip(u,v):\n",
        "\n",
        "        z.appen(n+m)\n",
        "\n",
        "  * Numpy: np.array(u) + np.array(v)\n",
        "  * Substraction is the mae with negative value\n",
        "* Scalar multiplication\n",
        "  * Normal:\n",
        "    \n",
        "    for n in u:\n",
        "    \n",
        "        z.append(2*n)\n",
        "  * Numpy: 2*np.array(u)\n",
        "* Vector multiplication\n",
        "  * Normal:\n",
        "    \n",
        "    for n,m in zip(u,v):\n",
        "    \n",
        "        z.append(n*m)\n",
        "  * Numpy: np.array(u)*np.array(v)\n",
        "\n",
        "* Dot product = single # = represents HOW similar 2 vectors are\n",
        "  *np.dot(u,v)\n",
        "*BROADCASTING: applying an operation to ALL elements of th array\n",
        "  * u = np.array([1,2,3,4]) --> u+1 --> 2,3,4,5\n",
        "\n",
        "---\n",
        "Universal Functions\n",
        "* mean() --> average\n",
        "* max() --> larget value\n",
        "* .pi\n",
        "*.sin() --> apply sin to each element\n",
        "* linespace(start, end, num= # samples) --> EVENLY SPACED numbers inside an interval\n",
        "* import matplotlib.pyplot as plt\n",
        "* %matplotlib inline --> display the plot"
      ],
      "metadata": {
        "id": "YrKjI2D8QYo-"
      }
    },
    {
      "cell_type": "code",
      "source": [
        "# Question 1: What is the result of the following operation: np.array([1,-1])*np.array([1,1])?\n",
        "import numpy as np\n",
        "np.array([1,-1])*np.array([1,1])"
      ],
      "metadata": {
        "colab": {
          "base_uri": "https://localhost:8080/"
        },
        "id": "F1_tKQrRQSq0",
        "outputId": "76de1fc1-c4ea-47ca-ff5b-0202fea6d45f"
      },
      "execution_count": null,
      "outputs": [
        {
          "output_type": "execute_result",
          "data": {
            "text/plain": [
              "array([ 1, -1])"
            ]
          },
          "metadata": {},
          "execution_count": 136
        }
      ]
    },
    {
      "cell_type": "code",
      "source": [
        "# Question 2: What is the result of the following operation: np.dot(np.array([1,-1]),np.array([1,1]))?\n",
        "np.dot(np.array([1,-1]),np.array([1,1]))"
      ],
      "metadata": {
        "colab": {
          "base_uri": "https://localhost:8080/"
        },
        "id": "x3udCNMOVIAV",
        "outputId": "56b1f2ae-bf29-43c9-ba9a-a426b647c70f"
      },
      "execution_count": null,
      "outputs": [
        {
          "output_type": "execute_result",
          "data": {
            "text/plain": [
              "0"
            ]
          },
          "metadata": {},
          "execution_count": 137
        }
      ]
    },
    {
      "cell_type": "markdown",
      "source": [
        "### Lab"
      ],
      "metadata": {
        "id": "K8THTYYTVoBD"
      }
    },
    {
      "cell_type": "code",
      "source": [
        "a = np.array([0, 1, 2, 3, 4])"
      ],
      "metadata": {
        "id": "TwAlRhT1VpaG"
      },
      "execution_count": null,
      "outputs": []
    },
    {
      "cell_type": "code",
      "source": [
        "type(a)"
      ],
      "metadata": {
        "colab": {
          "base_uri": "https://localhost:8080/"
        },
        "id": "d_shOAhpVuXe",
        "outputId": "1085b0d5-f7d9-4cd3-ca60-46a86dfceb4d"
      },
      "execution_count": null,
      "outputs": [
        {
          "output_type": "execute_result",
          "data": {
            "text/plain": [
              "numpy.ndarray"
            ]
          },
          "metadata": {},
          "execution_count": 140
        }
      ]
    },
    {
      "cell_type": "code",
      "source": [
        "a.dtype"
      ],
      "metadata": {
        "colab": {
          "base_uri": "https://localhost:8080/"
        },
        "id": "Vfg2iLLbVvRt",
        "outputId": "6543b8c6-ad6f-4f0a-cf67-6fb495a6ca76"
      },
      "execution_count": null,
      "outputs": [
        {
          "output_type": "execute_result",
          "data": {
            "text/plain": [
              "dtype('int64')"
            ]
          },
          "metadata": {},
          "execution_count": 141
        }
      ]
    },
    {
      "cell_type": "markdown",
      "source": [
        "## Numpy 2D Arrays"
      ],
      "metadata": {
        "id": "xj995qbaXsGl"
      }
    },
    {
      "cell_type": "markdown",
      "source": [],
      "metadata": {
        "id": "F3YYoWvaXu-Z"
      }
    },
    {
      "cell_type": "markdown",
      "source": [
        "## Simple APIs - Part 1"
      ],
      "metadata": {
        "id": "K224yfFcX9IX"
      }
    },
    {
      "cell_type": "markdown",
      "source": [
        "## Simple APIs - Part 2"
      ],
      "metadata": {
        "id": "ghZ24iDmX_YT"
      }
    },
    {
      "cell_type": "markdown",
      "source": [
        "## Lab - HTTP and Requests"
      ],
      "metadata": {
        "id": "LIb_a2ECYEBV"
      }
    }
  ]
}