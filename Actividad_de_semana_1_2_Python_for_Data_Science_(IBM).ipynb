{
  "nbformat": 4,
  "nbformat_minor": 0,
  "metadata": {
    "colab": {
      "provenance": [],
      "collapsed_sections": [],
      "authorship_tag": "ABX9TyOLFQ7BMyRalBkvhYXGaU8u",
      "include_colab_link": true
    },
    "kernelspec": {
      "name": "python3",
      "display_name": "Python 3"
    },
    "language_info": {
      "name": "python"
    }
  },
  "cells": [
    {
      "cell_type": "markdown",
      "metadata": {
        "id": "view-in-github",
        "colab_type": "text"
      },
      "source": [
        "<a href=\"https://colab.research.google.com/github/PosgradoMNA/actividades-de-aprendizaje-RobVegaTec/blob/main/Actividad_de_semana_1_2_Python_for_Data_Science_(IBM).ipynb\" target=\"_parent\"><img src=\"https://colab.research.google.com/assets/colab-badge.svg\" alt=\"Open In Colab\"/></a>"
      ]
    },
    {
      "cell_type": "markdown",
      "source": [],
      "metadata": {
        "id": "IlTVsynAs750"
      }
    },
    {
      "cell_type": "markdown",
      "source": [
        "# Modulo 1"
      ],
      "metadata": {
        "id": "ekn3hjRss9n7"
      }
    },
    {
      "cell_type": "markdown",
      "source": [
        "## Your First Program"
      ],
      "metadata": {
        "id": "3sB1ZcIvEKyB"
      }
    },
    {
      "cell_type": "code",
      "execution_count": 4,
      "metadata": {
        "colab": {
          "base_uri": "https://localhost:8080/"
        },
        "id": "cEnBrpc2s4_a",
        "outputId": "988de327-2c17-4da3-b154-c64a5534c9be"
      },
      "outputs": [
        {
          "output_type": "stream",
          "name": "stdout",
          "text": [
            "Hello Python 101\n"
          ]
        }
      ],
      "source": [
        "# This is a comment example: print Hello Python 101 \n",
        "print('Hello Python 101')"
      ]
    },
    {
      "cell_type": "code",
      "source": [
        "# Questinon 1: Using the Practice Lab, find the result of executing print(\"Hello\\nWorld!\") statement.\n",
        "print(\"Hello\\nWorld!\")"
      ],
      "metadata": {
        "colab": {
          "base_uri": "https://localhost:8080/"
        },
        "id": "lUXuSIrptjFL",
        "outputId": "5768c413-33aa-4eb8-8239-74717090c337"
      },
      "execution_count": 6,
      "outputs": [
        {
          "output_type": "stream",
          "name": "stdout",
          "text": [
            "Hello\n",
            "World!\n"
          ]
        }
      ]
    },
    {
      "cell_type": "code",
      "source": [
        "# Question 2: What is the output of executing the following statement: # print('Hello World!')?\n",
        "# print('Hello World!')\n",
        "# There is no output as it is a comment"
      ],
      "metadata": {
        "id": "UpUL3hylEb1C"
      },
      "execution_count": 8,
      "outputs": []
    },
    {
      "cell_type": "markdown",
      "source": [
        "## Types"
      ],
      "metadata": {
        "id": "ROIsAdYCFlm-"
      }
    },
    {
      "cell_type": "code",
      "source": [
        "# Question 1: What is the type of the following: int(1.0)?\n",
        "type(int(1.0))"
      ],
      "metadata": {
        "colab": {
          "base_uri": "https://localhost:8080/"
        },
        "id": "mKdc9soHEtpL",
        "outputId": "b0867d30-973f-4bd2-ba9c-b2759ddf209e"
      },
      "execution_count": 9,
      "outputs": [
        {
          "output_type": "execute_result",
          "data": {
            "text/plain": [
              "int"
            ]
          },
          "metadata": {},
          "execution_count": 9
        }
      ]
    },
    {
      "cell_type": "code",
      "source": [
        "# Question 2: Enter the code to convert the number 1 to a Boolean.\n",
        "bool(1)"
      ],
      "metadata": {
        "colab": {
          "base_uri": "https://localhost:8080/"
        },
        "id": "dWVgi5uKFsL6",
        "outputId": "9126596a-567b-42ea-fc8f-d3666e35d062"
      },
      "execution_count": 10,
      "outputs": [
        {
          "output_type": "execute_result",
          "data": {
            "text/plain": [
              "True"
            ]
          },
          "metadata": {},
          "execution_count": 10
        }
      ]
    },
    {
      "cell_type": "code",
      "source": [
        "# Discussion: My contribution\n",
        "\n",
        "\"\"\"\n",
        "bool() effect in numbers\n",
        "discusión publicada hace hace menos de un minuto por Rob-Vega\n",
        "\n",
        "Note the following; bool() function will always be True for any int or number except for 0:\n",
        "\n",
        "bool(10) --> True\n",
        "\n",
        "bool(1.1) --> True\n",
        "\n",
        "bool(-10) --> True\n",
        "\n",
        "bool(-1.1) --> True\n",
        "\n",
        "bool(0) --> True\n",
        "\"\"\""
      ],
      "metadata": {
        "colab": {
          "base_uri": "https://localhost:8080/"
        },
        "id": "Qkfic1kDFySK",
        "outputId": "beea5a03-0aad-47a8-9481-858bcdf6a053"
      },
      "execution_count": 17,
      "outputs": [
        {
          "output_type": "execute_result",
          "data": {
            "text/plain": [
              "True"
            ]
          },
          "metadata": {},
          "execution_count": 17
        }
      ]
    },
    {
      "cell_type": "markdown",
      "source": [
        "## Expressions and Variables\n",
        "\n",
        "Expression = operation\n",
        "oreand:numbers \n",
        "operators: + - * % /\n",
        "\n",
        "// = int division\n",
        "\n",
        "Operation orders\n",
        "\n",
        "Variables --> to assign values to n object\n",
        "\n",
        "use a meaninful name for variables"
      ],
      "metadata": {
        "id": "qLHQUdniHHhb"
      }
    },
    {
      "cell_type": "markdown",
      "source": [
        "## String Operations\n",
        "\n",
        "\n",
        "\\ escape sequences\n",
        "r to cnsider the backslash as an element"
      ],
      "metadata": {
        "id": "Xr38FQPZJh-0"
      }
    },
    {
      "cell_type": "markdown",
      "source": [
        "Sequence methods:\n",
        "\n",
        "String methods:\n",
        "\n",
        "upper()\n",
        "\n",
        "replace(target,replace_element)\n",
        "\n",
        "find(substring) --> first index of the substr in string\n"
      ],
      "metadata": {
        "id": "JMntQ4-VJ66q"
      }
    },
    {
      "cell_type": "code",
      "source": [
        "# Question 1: \n",
        "\"\"\"\n",
        "Consider the following string:\n",
        "\n",
        "Numbers = \"0123456\"\n",
        "How would you obtain the even elements?\n",
        "\"\"\"\n",
        "Numbers = \"0123456\"\n",
        "Numbers[::2]"
      ],
      "metadata": {
        "colab": {
          "base_uri": "https://localhost:8080/",
          "height": 36
        },
        "id": "R9ACyaZbHHCr",
        "outputId": "99f5176d-9dca-4ad9-e187-d9dd091638c0"
      },
      "execution_count": 19,
      "outputs": [
        {
          "output_type": "execute_result",
          "data": {
            "text/plain": [
              "'0246'"
            ],
            "application/vnd.google.colaboratory.intrinsic+json": {
              "type": "string"
            }
          },
          "metadata": {},
          "execution_count": 19
        }
      ]
    },
    {
      "cell_type": "markdown",
      "source": [
        "Note: if .find() is not able to find the vaue it retreives -1\n",
        "\n",
        "If you want to print a back slash with r you must leava a space after the \\ (or any other character)"
      ],
      "metadata": {
        "id": "IYz5gTh_NdGf"
      }
    },
    {
      "cell_type": "code",
      "source": [
        "Numbers[1::2]"
      ],
      "metadata": {
        "colab": {
          "base_uri": "https://localhost:8080/",
          "height": 36
        },
        "id": "dVqyIsZGKW4G",
        "outputId": "99a598c1-26e3-41a6-b9e3-1c9215969b3e"
      },
      "execution_count": 20,
      "outputs": [
        {
          "output_type": "execute_result",
          "data": {
            "text/plain": [
              "'135'"
            ],
            "application/vnd.google.colaboratory.intrinsic+json": {
              "type": "string"
            }
          },
          "metadata": {},
          "execution_count": 20
        }
      ]
    },
    {
      "cell_type": "markdown",
      "source": [
        "## Review Questions"
      ],
      "metadata": {
        "id": "aXTmEcaUMjZj"
      }
    },
    {
      "cell_type": "code",
      "source": [
        "# Question 1: What is the result of the following operation in Python:\n",
        "\n",
        "3 + 2 * 2"
      ],
      "metadata": {
        "colab": {
          "base_uri": "https://localhost:8080/"
        },
        "id": "xTdYZT9uMkLV",
        "outputId": "bb3f9210-385d-4144-caa6-238462b021ef"
      },
      "execution_count": 21,
      "outputs": [
        {
          "output_type": "execute_result",
          "data": {
            "text/plain": [
              "7"
            ]
          },
          "metadata": {},
          "execution_count": 21
        }
      ]
    },
    {
      "cell_type": "code",
      "source": [
        "# Question 2: In Python, if you executed name = 'Lizz', what would be the output of print(name[0:2])?\n",
        "name = 'Lizz'\n",
        "name[0:2]"
      ],
      "metadata": {
        "colab": {
          "base_uri": "https://localhost:8080/",
          "height": 36
        },
        "id": "B-z_l9yqMo7b",
        "outputId": "44b482a9-4faa-409b-c194-52bf60f31c99"
      },
      "execution_count": 23,
      "outputs": [
        {
          "output_type": "execute_result",
          "data": {
            "text/plain": [
              "'Li'"
            ],
            "application/vnd.google.colaboratory.intrinsic+json": {
              "type": "string"
            }
          },
          "metadata": {},
          "execution_count": 23
        }
      ]
    },
    {
      "cell_type": "code",
      "source": [
        "# Question 3: In Python, if you executed var = '01234567', what would be the result of print(var[::2])?\n",
        "var = '01234567'\n",
        "print(var[::2])"
      ],
      "metadata": {
        "colab": {
          "base_uri": "https://localhost:8080/"
        },
        "id": "TG2RJ2xJMuvb",
        "outputId": "1100478e-064a-4a14-d6eb-75992e5c3ebf"
      },
      "execution_count": 24,
      "outputs": [
        {
          "output_type": "stream",
          "name": "stdout",
          "text": [
            "0246\n"
          ]
        }
      ]
    },
    {
      "cell_type": "code",
      "source": [
        "# QUestion 4: In Python, what is the result of the following operation '1'+'2'?\n",
        "'1' + '2'"
      ],
      "metadata": {
        "colab": {
          "base_uri": "https://localhost:8080/",
          "height": 36
        },
        "id": "8wQyG1RBM5ab",
        "outputId": "9ca1afa3-9ec7-46e6-f979-0f36ea0801fb"
      },
      "execution_count": 25,
      "outputs": [
        {
          "output_type": "execute_result",
          "data": {
            "text/plain": [
              "'12'"
            ],
            "application/vnd.google.colaboratory.intrinsic+json": {
              "type": "string"
            }
          },
          "metadata": {},
          "execution_count": 25
        }
      ]
    },
    {
      "cell_type": "code",
      "source": [
        "# Question 5: Given myvar = 'hello', how would you convert myvar into uppercase?\n",
        "myvar = 'hello'\n",
        "myvar.upper()"
      ],
      "metadata": {
        "colab": {
          "base_uri": "https://localhost:8080/",
          "height": 36
        },
        "id": "Yu8KzdA4M-dr",
        "outputId": "28e8e0fc-20cd-488b-9133-f2cdbcdd0076"
      },
      "execution_count": 26,
      "outputs": [
        {
          "output_type": "execute_result",
          "data": {
            "text/plain": [
              "'HELLO'"
            ],
            "application/vnd.google.colaboratory.intrinsic+json": {
              "type": "string"
            }
          },
          "metadata": {},
          "execution_count": 26
        }
      ]
    },
    {
      "cell_type": "markdown",
      "source": [
        "# Módulo 2"
      ],
      "metadata": {
        "id": "FKFgFLSPOa26"
      }
    },
    {
      "cell_type": "markdown",
      "source": [
        "## List and Tuples"
      ],
      "metadata": {
        "id": "pC0bZwXiOeaK"
      }
    },
    {
      "cell_type": "markdown",
      "source": [
        "Tuple:\n",
        "* can have heterogeneous elements\n",
        "* SELECT the last element x[-1] OR \n",
        "* slicing\n",
        "* len()\n",
        "* immutable --> we cannot hange them: x[2] = 1 WRONG!\n",
        "* nesting: x[1][2][3] and so on...\n",
        "\n",
        "Lists:\n",
        "* CAN have HETEROGENEOUS elements\n",
        "* mutable --> we cannot hange them: x[2] = 1 CORRECT!\n",
        "  * .extend --> adds elements of a list at th end of another\n",
        "  * .append --> adds lists or whatever be included as a new element of the first list\n",
        "  * del(x[n]) --> deletes the element\n",
        "* .split(\"<delimiter>\") --> string to list\n",
        "* Referencing the same object: aliasing\n",
        "A = B, if change A, we change B as a side effect\n",
        "* Copy: B = A[:]"
      ],
      "metadata": {
        "id": "Y6nS8_CUOyeE"
      }
    },
    {
      "cell_type": "code",
      "source": [
        "# Question 1: How do you access the last element of the following tuple: A=(0,1,2,3)? Select all possible correct answers.\n",
        "A=(0,1,2,3)\n",
        "\n",
        "A[-1]\n",
        "A[3]"
      ],
      "metadata": {
        "colab": {
          "base_uri": "https://localhost:8080/"
        },
        "id": "-fjVGstQNF57",
        "outputId": "886e207f-0705-4f1e-f1f7-469a634ec4b0"
      },
      "execution_count": 30,
      "outputs": [
        {
          "output_type": "execute_result",
          "data": {
            "text/plain": [
              "3"
            ]
          },
          "metadata": {},
          "execution_count": 30
        }
      ]
    },
    {
      "cell_type": "code",
      "source": [
        "# Question 2:\n",
        "\"\"\"\n",
        "Consider the list: B=[\"a\",\"b\",\"c\"].\n",
        "\n",
        "What is the result of the following B[1:]?\n",
        "\"\"\"\n",
        "\n",
        "B=[\"a\",\"b\",\"c\"]\n",
        "B[1:]"
      ],
      "metadata": {
        "colab": {
          "base_uri": "https://localhost:8080/"
        },
        "id": "jOFJPdsaQFOE",
        "outputId": "8d189337-42f7-47cc-e89f-edfe2b2a94ef"
      },
      "execution_count": 32,
      "outputs": [
        {
          "output_type": "execute_result",
          "data": {
            "text/plain": [
              "['b', 'c']"
            ]
          },
          "metadata": {},
          "execution_count": 32
        }
      ]
    }
  ]
}